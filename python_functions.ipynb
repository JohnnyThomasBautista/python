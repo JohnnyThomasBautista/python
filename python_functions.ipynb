{
 "cells": [
  {
   "cell_type": "markdown",
   "metadata": {},
   "source": [
    "# Python: Functions"
   ]
  },
  {
   "cell_type": "markdown",
   "metadata": {},
   "source": [
    "## <font color='orange'>Required Reading</font> \n",
    "1. [Functions](https://www.py4e.com/html3/04-functions) from Python for Everybody by Charles Severance. Supplementary videos are [available here](https://www.py4e.com/lessons/functions).\n",
    "2. [Functions](https://automatetheboringstuff.com/chapter3/) from Automate the Boring Stuff by Al Sweigart. There are links to videos within the text in case those are helpful for your understanding. Pay particular attention to the discussion of local and global scope, as this is a key concept in programming."
   ]
  },
  {
   "cell_type": "markdown",
   "metadata": {},
   "source": [
    "A function, as you've read, has a few components. It may (or may not) have input arguments and it may (or may not) have outputs. Here's an example of a function that has both inputs and returns an output that represents the exponentiation function $f(x,y) = x^y$"
   ]
  },
  {
   "cell_type": "code",
   "execution_count": 17,
   "metadata": {},
   "outputs": [
    {
     "name": "stdout",
     "output_type": "stream",
     "text": [
      "9\n"
     ]
    }
   ],
   "source": [
    "def exponent(x,y):\n",
    "    return x**y\n",
    "\n",
    "print(exponent(3,2))"
   ]
  },
  {
   "cell_type": "markdown",
   "metadata": {},
   "source": [
    "But, a function may not take arguments or return output, it might just do something:"
   ]
  },
  {
   "cell_type": "code",
   "execution_count": 18,
   "metadata": {},
   "outputs": [
    {
     "name": "stdout",
     "output_type": "stream",
     "text": [
      "supercalifragilisticexpialidocious\n"
     ]
    }
   ],
   "source": [
    "def sillyfunction():\n",
    "    print('supercalifragilisticexpialidocious')\n",
    "    \n",
    "sillyfunction()"
   ]
  },
  {
   "cell_type": "markdown",
   "metadata": {},
   "source": [
    "Of course you can put all of the machinery we've discussed so far inside of functions - conditionals (i.e. `if` statements), loops, etc. \n",
    "\n",
    "**Don't Repeat Yourself (DRY)**. So an important question comes up: when should something just be a few lines of code in a script, and when should it be a defined function? The answer to this question comes from reuse. If you'll need that set of code again (or find yourself copying and pasting it to another part of a script), then it's time for a function. This makes things a lot simpler. Imagine if you have copied and pasted 3 lines of code to 10 different places in scripts that you have written. Then you realize that you need to make a change to one of those lines of code. That would mean making the change 10 times. If, instead, you've written a function that incorporates those 3 lines of code, and have *called* the function 10 times, then all you'd need to do is to change the function itself once to implement the change in all the 10 locations.\n",
    "\n"
   ]
  },
  {
   "cell_type": "markdown",
   "metadata": {},
   "source": [
    "# Exercises"
   ]
  },
  {
   "cell_type": "code",
   "execution_count": null,
   "metadata": {
    "collapsed": true
   },
   "outputs": [],
   "source": []
  }
 ],
 "metadata": {
  "kernelspec": {
   "display_name": "Python 3",
   "language": "python",
   "name": "python3"
  },
  "language_info": {
   "codemirror_mode": {
    "name": "ipython",
    "version": 3
   },
   "file_extension": ".py",
   "mimetype": "text/x-python",
   "name": "python",
   "nbconvert_exporter": "python",
   "pygments_lexer": "ipython3",
   "version": "3.6.1"
  }
 },
 "nbformat": 4,
 "nbformat_minor": 2
}
