{
 "cells": [
  {
   "cell_type": "markdown",
   "metadata": {},
   "source": [
    "# Unit 2: Functions and Classes"
   ]
  },
  {
   "cell_type": "markdown",
   "metadata": {},
   "source": [
    "## Functions"
   ]
  },
  {
   "cell_type": "markdown",
   "metadata": {},
   "source": [
    "### Reading: Function basics\n",
    "\n",
    "Please read [Functions](https://www.py4e.com/html3/04-functions) from Python for Everybody by Charles Severance.\n",
    "\n",
    "Supplementary videos that cover this material are also [available here](https://www.py4e.com/lessons/functions)\n",
    "\n",
    "Next, read [Functions](https://automatetheboringstuff.com/chapter3/) from Automate the Boring Stuff by Al Sweigart. There are links to videos within the text in case those are helpful for your understanding. Pay particular attention to the discussion of local and global scope, as this is a key concept in programming."
   ]
  },
  {
   "cell_type": "markdown",
   "metadata": {},
   "source": [
    "A function, as you've read, has a few components. It may (or may not) have input arguments and it may (or may not) have outputs. Here's an example of a function that has both inputs and returns an output that represents the exponentiation function $f(x,y) = x^y$"
   ]
  },
  {
   "cell_type": "code",
   "execution_count": 17,
   "metadata": {},
   "outputs": [
    {
     "name": "stdout",
     "output_type": "stream",
     "text": [
      "9\n"
     ]
    }
   ],
   "source": [
    "def exponent(x,y):\n",
    "    return x**y\n",
    "\n",
    "print(exponent(3,2))"
   ]
  },
  {
   "cell_type": "markdown",
   "metadata": {},
   "source": [
    "But, a function may not take arguments or return output, it might just do something:"
   ]
  },
  {
   "cell_type": "code",
   "execution_count": 18,
   "metadata": {},
   "outputs": [
    {
     "name": "stdout",
     "output_type": "stream",
     "text": [
      "supercalifragilisticexpialidocious\n"
     ]
    }
   ],
   "source": [
    "def sillyfunction():\n",
    "    print('supercalifragilisticexpialidocious')\n",
    "    \n",
    "sillyfunction()"
   ]
  },
  {
   "cell_type": "markdown",
   "metadata": {},
   "source": [
    "Of course you can put all of the machinery we've discussed so far inside of functions - conditional (`if` statements), loops, etc. \n",
    "\n",
    "**Don't Repeat Yourself (DRY)**. So an important question comes up: when should something just be a few lines of code in a script, and when should it be a defined function? The answer to this question comes from reuse. If you'll need that set of code again (or find yourself copying and pasting it to another part of a script), then it's time for a function. This makes things a lot simpler. Imagine if you have copied and pasted 3 lines of code to 10 different places in scripts that you have written. Then you realize that you need to make a change to one of those lines of code. That would mean making the change 10 times. If, instead, you've written a function that incorporates those 3 lines of code, and have *called* the function 10 times, then all you'd need to do is to change the function itself once to implement the change in all the 10 locations.\n",
    "\n"
   ]
  },
  {
   "cell_type": "markdown",
   "metadata": {},
   "source": [
    "## Scripts, Modules, and Packages\n",
    "By this point, you may have a number of terms swirling in your head - let's work on clarifying the meaning of a number of these. A **script** is typically an executable piece of code - it can contain all of the things we've discussed so far, including functions, and may or may not spit out a result. A **module** is typically a library of pieces of code (functions, classes, etc.) and is not generally executable. Both scripts and modules are found in files ending in `.py` and Python can run those files. **Packages** are a collection of modules - typically a folder that contains multiple modules.\n",
    "\n",
    "We'll be using a number of packages and modules in this course. NumPy is a package that contains many numerical computation modules. Matplotlib is a package containing many helpful plotting modules. We'll need an understanding of how these work in order to use them effectively.\n",
    "\n",
    "Let's explore this further with a detailed discussion of modules. Let's keep in mind that packages are structured collections of modules that are accessed using similar import methods as discussed below.\n",
    "\n",
    "*The following text is modified from [The Python Tutorial](https://docs.python.org/3/tutorial/modules.html) from the Python Software Foundation.*\n",
    "\n",
    "Let's say you were using the Python interpreter, and you quit and then enter it again. The definitions you have made (functions and variables) are lost. Therefore, if you want to write a somewhat longer program, you are better off using a text editor to prepare the input for the interpreter and running it with that file as input instead. This is known as creating a *script*. As your program gets longer, you may want to split it into several files for easier maintenance. You may also want to use a handy function that you’ve written in several programs without copying its definition into each program.\n",
    "\n",
    "To support this, Python has a way to put definitions in a file and use them in a script or in an interactive instance of the interpreter. Such a file is called a *module*; definitions from a module can be *imported* into other modules or into the *main* module (the collection of variables that you have access to in a script executed at the top level and in calculator mode).\n",
    "\n",
    "A module is a file containing Python definitions and statements. The file name is the module name with the suffix `.py` appended. Within a module, the module’s name (as a string) is available as the value of the global variable `__name__`. For instance, use your favorite text editor to create a file called `fibo.py` in the current directory with the following contents:"
   ]
  },
  {
   "cell_type": "code",
   "execution_count": 19,
   "metadata": {
    "collapsed": true
   },
   "outputs": [],
   "source": [
    "# Fibonacci numbers module\n",
    "\n",
    "def fib(n):    # write Fibonacci series up to n\n",
    "    a, b = 0, 1\n",
    "    while b < n:\n",
    "        print(b, end=' ')\n",
    "        a, b = b, a+b\n",
    "    print()\n",
    "\n",
    "def fib2(n):   # return Fibonacci series up to n\n",
    "    result = []\n",
    "    a, b = 0, 1\n",
    "    while b < n:\n",
    "        result.append(b)\n",
    "        a, b = b, a+b\n",
    "    return result"
   ]
  },
  {
   "cell_type": "markdown",
   "metadata": {},
   "source": [
    "Now enter the Python interpreter and import this module with the following command:"
   ]
  },
  {
   "cell_type": "code",
   "execution_count": 20,
   "metadata": {
    "collapsed": true
   },
   "outputs": [],
   "source": [
    "import fibo"
   ]
  },
  {
   "cell_type": "markdown",
   "metadata": {},
   "source": [
    "This does not enter the names of the functions defined in fibo directly in the current symbol table (the variables we have to work with in the workspace); it only enters the module name fibo there. Using the module name you can access the functions:"
   ]
  },
  {
   "cell_type": "code",
   "execution_count": 21,
   "metadata": {},
   "outputs": [
    {
     "name": "stdout",
     "output_type": "stream",
     "text": [
      "1 1 2 3 5 8 13 21 34 55 89 144 233 377 610 987 \n"
     ]
    }
   ],
   "source": [
    "fibo.fib(1000)"
   ]
  },
  {
   "cell_type": "code",
   "execution_count": 22,
   "metadata": {},
   "outputs": [
    {
     "data": {
      "text/plain": [
       "[1, 1, 2, 3, 5, 8, 13, 21, 34, 55, 89]"
      ]
     },
     "execution_count": 22,
     "metadata": {},
     "output_type": "execute_result"
    }
   ],
   "source": [
    "fibo.fib2(100)"
   ]
  },
  {
   "cell_type": "markdown",
   "metadata": {},
   "source": [
    "If you intend to use a function often you can assign it to a local name:"
   ]
  },
  {
   "cell_type": "code",
   "execution_count": 23,
   "metadata": {},
   "outputs": [
    {
     "name": "stdout",
     "output_type": "stream",
     "text": [
      "1 1 2 3 5 8 13 21 34 55 89 144 233 377 \n"
     ]
    }
   ],
   "source": [
    "fib = fibo.fib\n",
    "fib(500)"
   ]
  },
  {
   "cell_type": "markdown",
   "metadata": {},
   "source": [
    "A module can contain executable statements as well as function definitions. These statements are intended to initialize the module. They are executed only the first time the module name is encountered in an import statement. [1] (They are also run if the file is executed as a script.)\n",
    "\n",
    "Each module has its own private symbol table, which is used as the global symbol table by all functions defined in the module. Thus, the author of a module can use global variables in the module without worrying about accidental clashes with a user’s global variables. On the other hand, if you know what you are doing you can touch a module’s global variables with the same notation used to refer to its functions, modname.itemname.\n",
    "\n",
    "Modules can import other modules. It is customary but not required to place all import statements at the beginning of a module (or script, for that matter). The imported module names are placed in the importing module’s global symbol table.\n",
    "\n",
    "There is a variant of the import statement that imports names from a module directly into the importing module’s symbol table. For example:"
   ]
  },
  {
   "cell_type": "code",
   "execution_count": 24,
   "metadata": {},
   "outputs": [
    {
     "name": "stdout",
     "output_type": "stream",
     "text": [
      "1 1 2 3 5 8 13 21 34 55 89 144 233 377 \n"
     ]
    }
   ],
   "source": [
    "from fibo import fib, fib2\n",
    "fib(500)"
   ]
  },
  {
   "cell_type": "markdown",
   "metadata": {},
   "source": [
    "This does not introduce the module name from which the imports are taken in the local symbol table (so in the example, fibo is not defined).\n",
    "\n",
    "There is even a variant to import all names that a module defines:"
   ]
  },
  {
   "cell_type": "code",
   "execution_count": 25,
   "metadata": {},
   "outputs": [
    {
     "name": "stdout",
     "output_type": "stream",
     "text": [
      "1 1 2 3 5 8 13 21 34 55 89 144 233 377 \n"
     ]
    }
   ],
   "source": [
    "from fibo import *\n",
    "fib(500)"
   ]
  },
  {
   "cell_type": "markdown",
   "metadata": {},
   "source": [
    "This imports all names except those beginning with an underscore (`_`). In most cases Python programmers do not use this facility since it introduces an unknown set of names into the interpreter, possibly hiding some things you have already defined.\n",
    "\n",
    "Note that in general the practice of importing `*` from a module or package is frowned upon, since it often causes poorly readable code. However, it is okay to use it to save typing in interactive sessions.\n",
    "\n",
    "If the module name is followed by `as`, then the name following `as` is bound directly to the imported module."
   ]
  },
  {
   "cell_type": "code",
   "execution_count": 26,
   "metadata": {},
   "outputs": [
    {
     "name": "stdout",
     "output_type": "stream",
     "text": [
      "1 1 2 3 5 8 13 21 34 55 89 144 233 377 \n"
     ]
    }
   ],
   "source": [
    "import fibo as fib\n",
    "fib.fib(500)"
   ]
  },
  {
   "cell_type": "markdown",
   "metadata": {},
   "source": [
    "This is effectively importing the module in the same way that `import fibo` will do, with the only difference of it being available as `fib`.\n",
    "\n",
    "It can also be used when utilising `from` with similar effects:"
   ]
  },
  {
   "cell_type": "code",
   "execution_count": 27,
   "metadata": {},
   "outputs": [
    {
     "name": "stdout",
     "output_type": "stream",
     "text": [
      "1 1 2 3 5 8 13 21 34 55 89 144 233 377 \n"
     ]
    }
   ],
   "source": [
    "from fibo import fib as fibonacci\n",
    "fibonacci(500)"
   ]
  },
  {
   "cell_type": "markdown",
   "metadata": {},
   "source": [
    "## Classes"
   ]
  },
  {
   "cell_type": "markdown",
   "metadata": {},
   "source": [
    "### \\*\\*\\*Reading\\*\\*\\*\n",
    "\n",
    "Please read [Object-Oriented Programming](https://www.py4e.com/html3/14-objects) from Python for Everybody by Charles Severance.\n",
    "\n",
    "Supplementary videos that cover this material are also [available here](https://www.py4e.com/lessons/Objects)"
   ]
  },
  {
   "cell_type": "code",
   "execution_count": null,
   "metadata": {
    "collapsed": true
   },
   "outputs": [],
   "source": [
    "class BankCustomer:\n",
    "    '''A customer of a bank with a checking account.\n",
    "    \n",
    "    Attributes:\n",
    "        name: name of the customer (string)\n",
    "        balance: amount of money in the account (float)\n",
    "    \n",
    "    Credit: this class is adapted from an excellent example from Jeff Knupp: \n",
    "        https://jeffknupp.com/\n",
    "    '''\n",
    "    \n",
    "    def __init__(self,name,balance=0.0):\n",
    "        self.name    = name\n",
    "        self.balance = balance\n",
    "\n",
    "    def withdraw(self,amount):\n",
    "        if amount > self.balance:\n",
    "            print('Overdraft alert! Amount requested greater than available balance.')\n",
    "        self.balance -= amount\n",
    "        return self.balance\n",
    "        \n",
    "    def deposit(self,amount):\n",
    "        self.balance += amount\n",
    "        return self.balance"
   ]
  },
  {
   "cell_type": "markdown",
   "metadata": {},
   "source": [
    "## Everything is an object\n"
   ]
  },
  {
   "cell_type": "markdown",
   "metadata": {},
   "source": [
    "The keen observer may have noticed that when we applied the `print()` statement to output of the function `type()` for our integer and float data types, that this provided the shocking revalation that they, too, are objects derived from classes!"
   ]
  },
  {
   "cell_type": "code",
   "execution_count": 28,
   "metadata": {},
   "outputs": [
    {
     "name": "stdout",
     "output_type": "stream",
     "text": [
      "<class 'int'>\n",
      "<class 'float'>\n",
      "<class 'list'>\n"
     ]
    }
   ],
   "source": [
    "print(type(3))\n",
    "print(type(3.2))\n",
    "print(type([2,3,4]))"
   ]
  },
  {
   "cell_type": "markdown",
   "metadata": {},
   "source": [
    "In Python, all of our data types are defined as classes. They have properties and methods just like any other class. So whenever we use dot notation to to, for example, append an item to a list, we're calling a method of the `list` class."
   ]
  },
  {
   "cell_type": "code",
   "execution_count": 29,
   "metadata": {},
   "outputs": [
    {
     "name": "stdout",
     "output_type": "stream",
     "text": [
      "[1, 2, 3, 42]\n"
     ]
    }
   ],
   "source": [
    "x = [1,2,3]\n",
    "x.append(42)\n",
    "print(x)"
   ]
  },
  {
   "cell_type": "markdown",
   "metadata": {},
   "source": [
    "If you dive deeper, you can get a list of all of the attributes (methods and properties) of any class"
   ]
  },
  {
   "cell_type": "code",
   "execution_count": 30,
   "metadata": {},
   "outputs": [
    {
     "data": {
      "text/plain": [
       "['__add__',\n",
       " '__class__',\n",
       " '__contains__',\n",
       " '__delattr__',\n",
       " '__delitem__',\n",
       " '__dir__',\n",
       " '__doc__',\n",
       " '__eq__',\n",
       " '__format__',\n",
       " '__ge__',\n",
       " '__getattribute__',\n",
       " '__getitem__',\n",
       " '__gt__',\n",
       " '__hash__',\n",
       " '__iadd__',\n",
       " '__imul__',\n",
       " '__init__',\n",
       " '__init_subclass__',\n",
       " '__iter__',\n",
       " '__le__',\n",
       " '__len__',\n",
       " '__lt__',\n",
       " '__mul__',\n",
       " '__ne__',\n",
       " '__new__',\n",
       " '__reduce__',\n",
       " '__reduce_ex__',\n",
       " '__repr__',\n",
       " '__reversed__',\n",
       " '__rmul__',\n",
       " '__setattr__',\n",
       " '__setitem__',\n",
       " '__sizeof__',\n",
       " '__str__',\n",
       " '__subclasshook__',\n",
       " 'append',\n",
       " 'clear',\n",
       " 'copy',\n",
       " 'count',\n",
       " 'extend',\n",
       " 'index',\n",
       " 'insert',\n",
       " 'pop',\n",
       " 'remove',\n",
       " 'reverse',\n",
       " 'sort']"
      ]
     },
     "execution_count": 30,
     "metadata": {},
     "output_type": "execute_result"
    }
   ],
   "source": [
    "dir(x)"
   ]
  },
  {
   "cell_type": "markdown",
   "metadata": {},
   "source": [
    "First of all, you'll see at the bottom of the list that there are the methods that we know and love for lists: `append`, `sort`, etc. However, there are also many methods with double underscores around them, i.e. `__init__` which we saw was a special class method for initializing an object. These other methods each have their respective functionality, for example, `__len__` provides the mechanism by which the length of a list is computed when you call `len(x)`, however, we could alternatively call it this way (although this is not recommended):"
   ]
  },
  {
   "cell_type": "code",
   "execution_count": 32,
   "metadata": {},
   "outputs": [
    {
     "data": {
      "text/plain": [
       "4"
      ]
     },
     "execution_count": 32,
     "metadata": {},
     "output_type": "execute_result"
    }
   ],
   "source": [
    "x.__len__()"
   ]
  },
  {
   "cell_type": "markdown",
   "metadata": {},
   "source": [
    "## Unit testing\n",
    "This may come as a surprise, but as a fellow human, we all make mistakes. "
   ]
  },
  {
   "cell_type": "code",
   "execution_count": null,
   "metadata": {
    "collapsed": true
   },
   "outputs": [],
   "source": []
  },
  {
   "cell_type": "code",
   "execution_count": null,
   "metadata": {
    "collapsed": true
   },
   "outputs": [],
   "source": []
  }
 ],
 "metadata": {
  "kernelspec": {
   "display_name": "Python 3",
   "language": "python",
   "name": "python3"
  },
  "language_info": {
   "codemirror_mode": {
    "name": "ipython",
    "version": 3
   },
   "file_extension": ".py",
   "mimetype": "text/x-python",
   "name": "python",
   "nbconvert_exporter": "python",
   "pygments_lexer": "ipython3",
   "version": "3.6.1"
  }
 },
 "nbformat": 4,
 "nbformat_minor": 2
}
