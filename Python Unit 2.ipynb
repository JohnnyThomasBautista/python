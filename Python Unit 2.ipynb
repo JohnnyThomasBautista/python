{
 "cells": [
  {
   "cell_type": "markdown",
   "metadata": {},
   "source": [
    "# Unit 2: Functions and Classes"
   ]
  },
  {
   "cell_type": "markdown",
   "metadata": {},
   "source": [
    "## Functions"
   ]
  },
  {
   "cell_type": "markdown",
   "metadata": {},
   "source": [
    "### \\*\\*\\*Reading\\*\\*\\*\n",
    "\n",
    "Please read [Functions](https://www.py4e.com/html3/04-functions) from Python for Everybody by Charles Severance.\n",
    "\n",
    "Supplementary videos that cover this material are also [available here](https://www.py4e.com/lessons/functions)"
   ]
  },
  {
   "cell_type": "markdown",
   "metadata": {},
   "source": [
    "## Classes"
   ]
  },
  {
   "cell_type": "markdown",
   "metadata": {},
   "source": [
    "### \\*\\*\\*Reading\\*\\*\\*\n",
    "\n",
    "Please read [Object-Oriented Programming](https://www.py4e.com/html3/14-objects) from Python for Everybody by Charles Severance.\n",
    "\n",
    "Supplementary videos that cover this material are also [available here](https://www.py4e.com/lessons/Objects)"
   ]
  },
  {
   "cell_type": "code",
   "execution_count": null,
   "metadata": {
    "collapsed": true
   },
   "outputs": [],
   "source": []
  }
 ],
 "metadata": {
  "kernelspec": {
   "display_name": "Python 3",
   "language": "python",
   "name": "python3"
  },
  "language_info": {
   "codemirror_mode": {
    "name": "ipython",
    "version": 3
   },
   "file_extension": ".py",
   "mimetype": "text/x-python",
   "name": "python",
   "nbconvert_exporter": "python",
   "pygments_lexer": "ipython3",
   "version": "3.6.1"
  }
 },
 "nbformat": 4,
 "nbformat_minor": 2
}
