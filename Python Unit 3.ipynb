{
 "cells": [
  {
   "cell_type": "markdown",
   "metadata": {},
   "source": [
    "# Python Unit 3: Numerical programming\n",
    "So far, we've been talking to Python built in data types, classes, and modules, but this is a turning point where we begin to explore the world of numerical programming and data science that enhances Pythons built-in functionality with a series of important packages, namely [NumPy](http://www.numpy.org/), [matplotlib](https://matplotlib.org/), and [pandas](https://pandas.pydata.org/).\n",
    "\n",
    "\n",
    "## NumPy\n",
    "NumPy introduction...\n",
    "\n",
    "### Reading\n",
    "Please read this excellent [Python Numpy Tutorial](http://cs231n.github.io/python-numpy-tutorial/#numpy) by Justin Johnson at Stanford's Vision Lab. Stanford's Vision Lab is a leader in the field of Computer Vision, and you'll encounter the work of the head of that Lab, Dr. Fei-Fei Li, as you explore the field of machine learning.\n",
    "\n",
    "\n",
    "## matplotlib\n",
    "`matplotlib` introduction...\n",
    "\n",
    "### Reading\n",
    "Please read [`matplotlib` tutorial](https://matplotlib.org/users/pyplot_tutorial.html). Another resource that is not required reading, but that you may find helpful is the [plot-specific `matplotlib` tutorials](https://matplotlib.org/tutorials/index.html) which provide guidance in terms of how to create specific plot types.\n",
    "\n",
    "## Pandas\n",
    "Pandas introduction...\n",
    "\n",
    "### Reading\n",
    "Please read [10 Minutes to Pandas](https://pandas.pydata.org/pandas-docs/stable/10min.html#min)"
   ]
  },
  {
   "cell_type": "code",
   "execution_count": null,
   "metadata": {
    "collapsed": true
   },
   "outputs": [],
   "source": []
  }
 ],
 "metadata": {
  "kernelspec": {
   "display_name": "Python 3",
   "language": "python",
   "name": "python3"
  },
  "language_info": {
   "codemirror_mode": {
    "name": "ipython",
    "version": 3
   },
   "file_extension": ".py",
   "mimetype": "text/x-python",
   "name": "python",
   "nbconvert_exporter": "python",
   "pygments_lexer": "ipython3",
   "version": "3.6.1"
  }
 },
 "nbformat": 4,
 "nbformat_minor": 2
}
