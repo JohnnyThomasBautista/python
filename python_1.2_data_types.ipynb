{
 "cells": [
  {
   "cell_type": "markdown",
   "metadata": {},
   "source": [
    "# Python: Data Types\n",
    "Data types are the building blocks of our program that form the raw material that we process with out programs. In Python, all data types are objects, and there are a number of built in object types that are commonly used.\n",
    "\n",
    "- Numeric data types: **integers** and **floats**\n",
    "- **Booleans** (logical data type, `True` or `False`)\n",
    "- **Strings** (sequence of characters)\n",
    "- Collections – data types that may contain any kind of object (including other collections)\n",
    "    - **Lists** (sequences that are mutable, or changable)\n",
    "    - **Tuples** (sequences that are immutable, or static)\n",
    "    - **Dictionaries** (mappings from a key to a value)"
   ]
  },
  {
   "cell_type": "markdown",
   "metadata": {},
   "source": [
    "## Numbers\n",
    "There are two primary numerical data types in Python that you'll see: integers and floats. For integers, these will be whole numbers (e.g. 1,2,3,60000,-12,0). Floats (or floating point numbers) enable decimal values to be included."
   ]
  },
  {
   "cell_type": "markdown",
   "metadata": {},
   "source": [
    "## Required Reading\n",
    "[Variables, expressions, and statements](https://www.py4e.com/html3/02-variables) from Python for Everybody by Charles Severance. Supplementary videos are [available here](https://www.py4e.com/lessons/memory)"
   ]
  },
  {
   "cell_type": "markdown",
   "metadata": {},
   "source": [
    "*For reference, the function `type()` below returns the type of object.*"
   ]
  },
  {
   "cell_type": "code",
   "execution_count": 81,
   "metadata": {},
   "outputs": [
    {
     "data": {
      "text/plain": [
       "int"
      ]
     },
     "execution_count": 81,
     "metadata": {},
     "output_type": "execute_result"
    }
   ],
   "source": [
    "x = 3\n",
    "type(x)"
   ]
  },
  {
   "cell_type": "code",
   "execution_count": 82,
   "metadata": {},
   "outputs": [
    {
     "data": {
      "text/plain": [
       "float"
      ]
     },
     "execution_count": 82,
     "metadata": {},
     "output_type": "execute_result"
    }
   ],
   "source": [
    "x = 3.4\n",
    "type(x)"
   ]
  },
  {
   "cell_type": "markdown",
   "metadata": {},
   "source": [
    "When you divide two integers that do not result in an integer, the result is a float (this is true in Python 3.x, but the behavior was different in Python 2.7)."
   ]
  },
  {
   "cell_type": "code",
   "execution_count": 83,
   "metadata": {},
   "outputs": [
    {
     "name": "stdout",
     "output_type": "stream",
     "text": [
      "<class 'int'>\n",
      "<class 'int'>\n",
      "3.5\n",
      "<class 'float'>\n"
     ]
    }
   ],
   "source": [
    "a = 7\n",
    "b = 2\n",
    "print(type(a))\n",
    "print(type(b))\n",
    "c = a / b\n",
    "print(c)\n",
    "print(type(c))"
   ]
  },
  {
   "cell_type": "markdown",
   "metadata": {},
   "source": [
    "## Strings\n",
    "Strings are sequences of characters. For example 'Data Science' contains 12 characters including one space in a particular order (or sequence)."
   ]
  },
  {
   "cell_type": "code",
   "execution_count": 2,
   "metadata": {},
   "outputs": [
    {
     "data": {
      "text/plain": [
       "str"
      ]
     },
     "execution_count": 2,
     "metadata": {},
     "output_type": "execute_result"
    }
   ],
   "source": [
    "x = 'Data Science'\n",
    "type(x)"
   ]
  },
  {
   "cell_type": "code",
   "execution_count": 3,
   "metadata": {},
   "outputs": [
    {
     "data": {
      "text/plain": [
       "12"
      ]
     },
     "execution_count": 3,
     "metadata": {},
     "output_type": "execute_result"
    }
   ],
   "source": [
    "len(x)"
   ]
  },
  {
   "cell_type": "markdown",
   "metadata": {},
   "source": [
    "## Required Reading\n",
    "[Strings](https://www.py4e.com/html3/06-strings) from Python for Everybody by Charles Severance. Supplementary videos are [available here](https://www.py4e.com/lessons/logic)"
   ]
  },
  {
   "cell_type": "markdown",
   "metadata": {},
   "source": [
    "### Booleans\n",
    "Booleans are data type objects that can take on two values, `True` or `False`, which are used for logical operations"
   ]
  },
  {
   "cell_type": "code",
   "execution_count": 85,
   "metadata": {},
   "outputs": [
    {
     "data": {
      "text/plain": [
       "bool"
      ]
     },
     "execution_count": 85,
     "metadata": {},
     "output_type": "execute_result"
    }
   ],
   "source": [
    "x = True\n",
    "type(x)"
   ]
  },
  {
   "cell_type": "markdown",
   "metadata": {},
   "source": [
    "### Variable names\n",
    "There are a few rules around naming variables. You cannot name variables starting with a number, so `1000miles` is not a valid variable name. You can use numbers in variable names, but they just can't begin the name. So `miles1000` is legal syntax. You can use letters, numbers, and underscores, but not other symbols. Therefore, `eat@joes` is not a valid name.\n",
    "\n",
    "We'll talk more about style later, but generally, you'll want to make these variable names meaningful. Let's say you were trying to represent the speed of a train. You could use a variable `s`, but there are a lot of things that could mean. A better (and more descriptive) name would be `speed`, and better still would be `speed_of_train`. Now, you want this to be within a reasonable length, so `speed_of_train_from_boston_to_new_york_through_new_haven_and_providence` is not an ideal name because it's far too long. Use common sense and above all, make your code readable so someone else could easily pick it up, understand it, and use it.\n",
    "\n",
    "There are also a number of reserved words for the Python language that you cannot use in your programs:\n",
    "\n",
    "| | | | | |\n",
    "|----------|----------|----------|----------|-------|\n",
    "|and       |del       |from      |None      |True   |\n",
    "|as        |elif      |global    |nonlocal  |try    |\n",
    "|assert    |else      |if        |not       |while  |\n",
    "|break     |except    |import    |or        |with   |\n",
    "|class     |False     |in        |pass      |yield  |\n",
    "|continue  |finally   |is        |raise     |       |\n",
    "|def       |for       |lambda    |return    |       |"
   ]
  },
  {
   "cell_type": "markdown",
   "metadata": {},
   "source": [
    "## Containers: lists and tuples"
   ]
  },
  {
   "cell_type": "markdown",
   "metadata": {},
   "source": [
    "## Required Reading\n",
    "\n",
    "1. [Lists](https://www.py4e.com/html3/08-lists) from Python for Everybody by Charles Severance. ([lists videos](https://www.py4e.com/lessons/lists))\n",
    "2. [Tuples](https://www.py4e.com/html3/10-tuples) from Python for Everybody by Charles Severance. ([tuples videos](https://www.py4e.com/lessons/tuples))"
   ]
  },
  {
   "cell_type": "markdown",
   "metadata": {},
   "source": [
    "Containers (or sequences) can hold multiple basic data types (integers, floats, Booleans, strings). Lists are defined with brackets [], and tuples are defined with parentheses (). Either can contain any other data type including other lists or tuples."
   ]
  },
  {
   "cell_type": "code",
   "execution_count": 86,
   "metadata": {},
   "outputs": [
    {
     "data": {
      "text/plain": [
       "list"
      ]
     },
     "execution_count": 86,
     "metadata": {},
     "output_type": "execute_result"
    }
   ],
   "source": [
    "x = [1,2,3]\n",
    "type(x)"
   ]
  },
  {
   "cell_type": "code",
   "execution_count": 87,
   "metadata": {},
   "outputs": [
    {
     "data": {
      "text/plain": [
       "tuple"
      ]
     },
     "execution_count": 87,
     "metadata": {},
     "output_type": "execute_result"
    }
   ],
   "source": [
    "x = (1,2,3)\n",
    "type(x)"
   ]
  },
  {
   "cell_type": "markdown",
   "metadata": {},
   "source": [
    "You can also mix and match data types in these containers"
   ]
  },
  {
   "cell_type": "code",
   "execution_count": 88,
   "metadata": {},
   "outputs": [
    {
     "name": "stdout",
     "output_type": "stream",
     "text": [
      "[1, 2, 'this', True]\n"
     ]
    }
   ],
   "source": [
    "x = [1,2,'this',True]\n",
    "print(x)"
   ]
  },
  {
   "cell_type": "code",
   "execution_count": 89,
   "metadata": {},
   "outputs": [
    {
     "name": "stdout",
     "output_type": "stream",
     "text": [
      "(1, 2, 'this', True)\n"
     ]
    }
   ],
   "source": [
    "x = (1,2,'this',True)\n",
    "print(x)"
   ]
  },
  {
   "cell_type": "markdown",
   "metadata": {},
   "source": [
    "These containers can even contain other containers!"
   ]
  },
  {
   "cell_type": "code",
   "execution_count": 90,
   "metadata": {},
   "outputs": [
    {
     "name": "stdout",
     "output_type": "stream",
     "text": [
      "[1, [2, 3, 4], 'this', ('this', 2), True]\n"
     ]
    }
   ],
   "source": [
    "x = [1,[2,3,4],'this',('this',2),True]\n",
    "print(x)"
   ]
  },
  {
   "cell_type": "code",
   "execution_count": 91,
   "metadata": {
    "scrolled": true
   },
   "outputs": [
    {
     "name": "stdout",
     "output_type": "stream",
     "text": [
      "(1, [2, 3, 4], 'this', ('this', 2), True)\n"
     ]
    }
   ],
   "source": [
    "x = (1,[2,3,4],'this',('this',2),True)\n",
    "print(x)"
   ]
  },
  {
   "cell_type": "markdown",
   "metadata": {},
   "source": [
    "In practice, we'll most commonly see these lists with more homogeneous data types, (e.g. all numbers, or all text) and tuples with more heterogeneous sequences."
   ]
  },
  {
   "cell_type": "code",
   "execution_count": 92,
   "metadata": {
    "collapsed": true
   },
   "outputs": [],
   "source": [
    "x = [1,2,6,32,7,8,4,3]\n",
    "y = (10, 'Downing Street', 'London', 'United Kingdom')"
   ]
  },
  {
   "cell_type": "markdown",
   "metadata": {},
   "source": [
    "Mutable means changeable or dynamic (think the word \"mutation\"). Immutable means unable to be changed, or static. An example of a mutable data type is a list."
   ]
  },
  {
   "cell_type": "code",
   "execution_count": 93,
   "metadata": {},
   "outputs": [
    {
     "name": "stdout",
     "output_type": "stream",
     "text": [
      "[99, 2, 3, 4, 5]\n"
     ]
    }
   ],
   "source": [
    "x = [1,2,3,4,5]\n",
    "x[0] = 99\n",
    "print(x)"
   ]
  },
  {
   "cell_type": "markdown",
   "metadata": {},
   "source": [
    "Tuples, on the other hand, are immutable, and you'll get an error if you try to change one of their elements."
   ]
  },
  {
   "cell_type": "code",
   "execution_count": 94,
   "metadata": {},
   "outputs": [
    {
     "ename": "TypeError",
     "evalue": "'tuple' object does not support item assignment",
     "output_type": "error",
     "traceback": [
      "\u001b[1;31m---------------------------------------------------------------------------\u001b[0m",
      "\u001b[1;31mTypeError\u001b[0m                                 Traceback (most recent call last)",
      "\u001b[1;32m<ipython-input-94-efef77817f23>\u001b[0m in \u001b[0;36m<module>\u001b[1;34m()\u001b[0m\n\u001b[0;32m      1\u001b[0m \u001b[0mx\u001b[0m \u001b[1;33m=\u001b[0m \u001b[1;33m(\u001b[0m\u001b[1;36m1\u001b[0m\u001b[1;33m,\u001b[0m\u001b[1;36m2\u001b[0m\u001b[1;33m,\u001b[0m\u001b[1;36m3\u001b[0m\u001b[1;33m,\u001b[0m\u001b[1;36m4\u001b[0m\u001b[1;33m,\u001b[0m\u001b[1;36m5\u001b[0m\u001b[1;33m)\u001b[0m\u001b[1;33m\u001b[0m\u001b[0m\n\u001b[1;32m----> 2\u001b[1;33m \u001b[0mx\u001b[0m\u001b[1;33m[\u001b[0m\u001b[1;36m0\u001b[0m\u001b[1;33m]\u001b[0m \u001b[1;33m=\u001b[0m \u001b[1;36m99\u001b[0m\u001b[1;33m\u001b[0m\u001b[0m\n\u001b[0m",
      "\u001b[1;31mTypeError\u001b[0m: 'tuple' object does not support item assignment"
     ]
    }
   ],
   "source": [
    "x = (1,2,3,4,5)\n",
    "x[0] = 99"
   ]
  },
  {
   "cell_type": "markdown",
   "metadata": {},
   "source": [
    "## Dictionaries"
   ]
  },
  {
   "cell_type": "markdown",
   "metadata": {},
   "source": [
    "## Required Reading\n",
    "[Dictionaries](https://www.py4e.com/html3/09-dictionaries) from Python for Everybody by Charles Severance. ([dictionary videos available here](https://www.py4e.com/lessons/dictionary))"
   ]
  },
  {
   "cell_type": "markdown",
   "metadata": {},
   "source": [
    "Then there are dictionaries. Think about how a tradition paper dictionary works. You want to search for a definition (we'll call these values), and the definition is connected with a particular word (we'll call these keys). You open up the dictionary, search for the key, and by doing so are able to retrieve the corresponding value. That's how a dictionary works here: it *maps* keys to values.\n",
    "\n",
    "Let's start with an example with two key-value pairs. Let's assume we are representing the ages of two people, Sheila, age 34, and Robert, age 17. We can represent this with the following dictionary:"
   ]
  },
  {
   "cell_type": "code",
   "execution_count": 95,
   "metadata": {},
   "outputs": [
    {
     "name": "stdout",
     "output_type": "stream",
     "text": [
      "{'Sheila': 34, 'Robert': 17}\n"
     ]
    }
   ],
   "source": [
    "age = {'Sheila': 34, 'Robert': 17}\n",
    "print(age)"
   ]
  },
  {
   "cell_type": "markdown",
   "metadata": {},
   "source": [
    "If you want to know what Sheila's age is, just look it up as you would in a dictionary."
   ]
  },
  {
   "cell_type": "code",
   "execution_count": 96,
   "metadata": {},
   "outputs": [
    {
     "data": {
      "text/plain": [
       "34"
      ]
     },
     "execution_count": 96,
     "metadata": {},
     "output_type": "execute_result"
    }
   ],
   "source": [
    "age['Sheila']"
   ]
  },
  {
   "cell_type": "markdown",
   "metadata": {},
   "source": [
    "Now, dictionaries are also mutable, so they can be changed after being created. Let's adjust Robert's age to 18. Let's also add Polly, age 42, to the dictionary."
   ]
  },
  {
   "cell_type": "code",
   "execution_count": 97,
   "metadata": {},
   "outputs": [
    {
     "name": "stdout",
     "output_type": "stream",
     "text": [
      "{'Sheila': 34, 'Robert': 18, 'Polly': 42}\n"
     ]
    }
   ],
   "source": [
    "age['Robert'] = 18\n",
    "age['Polly']  = 42\n",
    "print(age)"
   ]
  },
  {
   "cell_type": "markdown",
   "metadata": {},
   "source": [
    "We'll return to each of these data types in the context"
   ]
  }
 ],
 "metadata": {
  "kernelspec": {
   "display_name": "Python 3",
   "language": "python",
   "name": "python3"
  },
  "language_info": {
   "codemirror_mode": {
    "name": "ipython",
    "version": 3
   },
   "file_extension": ".py",
   "mimetype": "text/x-python",
   "name": "python",
   "nbconvert_exporter": "python",
   "pygments_lexer": "ipython3",
   "version": "3.6.1"
  }
 },
 "nbformat": 4,
 "nbformat_minor": 2
}
