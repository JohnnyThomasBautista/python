{
 "cells": [
  {
   "cell_type": "markdown",
   "metadata": {},
   "source": [
    "# Unit 1: Foundations of Python\n",
    "\n",
    "Data science is like painting. Your canvas is your dataset, your statistical techniques are your colors, and your technique and artistry comes through your programming. Data scientists with strong programming skills are able to quickly implement techniques and are more readily able to be more creative problem solvers and scientists.\n",
    "\n",
    "## Learning Objectives of Module 1\n",
    "By the end of this module, you will be able to...\n",
    "1. Articulate the strengths and weaknesses of using Python vs other tools such as R\n",
    "2. Explain the differences between the command line, Ipython, Jupyter Notebooks, and the Spyder IDE and when to use each.\n",
    "3. Create variables and use those variables in basic scripts that contain conditional statements and loops\n",
    "\n",
    "### How to use these modules\n",
    "While the content in each of these modules covers the material at a high level, there is significant depth provided through associated readings and videos throughout the course. While the topics are designed to be complementary, a number of key topics are addressed in both to provide multiple perspectives. Wherever you see a \\*\\*\\*Reading\\*\\*\\* section, this is a required course component, so please open the link and read the content. The videos may also help if you're struggling with any of the particular topics. \n",
    "\n",
    "For this module, the references used are from Charles Severance, [Python for Everybody](https://www.py4e.com/lessons), who provides an excellent overview of these topics.\n",
    "\n",
    "### Why use Python?\n",
    "There are numerous strengths of this language, which have helped to propel it to becoming one of the most popular languages for data science.\n",
    "\n",
    "Strengths of Python:\n",
    "1. Readability. Python is considered to be by many more naturally readable than other languages.\n",
    "2. Numeric and scientific programming (with packages like numpy, scipy, matplotlib, and scikit-learn)\n",
    "3. Object oriented. From the ground up, Python is object oriented, with all of the primary data types being objects. We'll expore the benefits of this in later modules, but they are considerable.\n",
    "4. Free. Enough said.\n",
    "5. Portable. Python works on nearly all systems.\n",
    "6. Easy to use and easier to learn\n",
    "7. Provides the simplicity and ease of use of a interpreted language with the advanced tools that are found in compiled languages (dynamic typing, automatic memory management)\n",
    "\n",
    "Weaknesses of Python:\n",
    "1. Performance - Python is slower than compiled languages like C.\n",
    "2. It can be challenging to manage python packages and confusion exists between code bases written in Python 2 vs Python 3.\n",
    "\n",
    "But what about R or other languages? \"R is a programming language developed by statisticians for statisticians; Python was developed by a computer scientist, and it can be used by programmers to apply statistical techniques.\" ([Sebastian Raschka](https://sebastianraschka.com/blog/2015/why-python.html)) R does statistics extremely well and is a powerful tool for data science, well-worth knowing. For many applications, either Python or R will get the job done, and both are worth knowing for the aspiring data scientist.\n",
    "\n",
    "Python, however, consistently pulls ahead in numerous ranking for both the data science community, particularly within the subfield of machine learning, as well as the broader programming community. Python has the benefit of being independently an extremely powerful programming language used in many industries, not only for data science. The [Kaggle State of Data Science Survey](https://www.kaggle.com/surveys/2017), put together by the preeminant host of online machine learning competitions, rated Python as the most used programming language of a survey of data science professionals. Additionally, those same professionals overwhelmingly recommend Python as the language for new data scientists to learn forst. The ratings don't stop there, however. The [Institute of Electrical and Electronics Engineers (IEEE) ranked Python](https://spectrum.ieee.org/computing/software/the-2017-top-programming-languages) as the #1 programming language in 2017. In the [TIOBE software index for 2018 ranks Python](https://www.tiobe.com/tiobe-index/) (shown below), Python is the number 4 programming language just after Java, C, and C++, the dominant languages in industry for many years. Just being in the same league as those industry standards demonstrates that Python is a highly transferrable skill that can help to propel your career in diverse directions.\n",
    "\n",
    "<img src=\"img/tiobe.png\" width=\"800\">\n",
    "\n",
    "\n",
    "### How do I learn to program?\n",
    "True or false: if I read enough textbooks and watch enough videos about programming, I'll become a good programmer. This statement could not be more FALSE. Becoming good at programming is much like becoming good at any spoken language. You will only develop your skills by hands-on experience using the language. This process will be hard at times, and you'll sometimes feel like you're struggling to understand a concept or fix a bug. That's natural and that's often when you learn the most. Here are some tips for success:\n",
    "\n",
    "1. Always work through all the examples until the end - don't stop and assume that you could figure out the rest.\n",
    "2. If you get stuck - search or an answer. Every time I go to code something that I haven't done before, I inevitably end up looking on one of a number of websites / forums such as Stack Overflow, StackExchange, Quora, or a host of other sites that are best found through a general Google search of your topic. A key skill to develop is knowing when to trust a source and when to keep looking.\n",
    "3. When in doubt, draw it. When you're trying to accomplish something algorithmically, think through and draw out the logic that you're trying to implement before typing in code.\n",
    "\n",
    "### Understanding the Python ecosystem\n",
    "Tools for using Python\n",
    "Command line\n",
    "Shell\n",
    "IDLE\n",
    "Ipython\n",
    "Jupyter Notebook\n",
    "Spyder\n",
    "Any text editor (Sublime, VIM, Emacs, etc.)\n",
    "\n",
    "Core Python\n",
    "Packages\n",
    "Numpy\n",
    "Matplotlib\n",
    "Pandas"
   ]
  },
  {
   "cell_type": "markdown",
   "metadata": {},
   "source": [
    "### Using the terminal\n",
    "Command prompt basics – opening the prompt (terminal or cmder)\n",
    "Command line operations (cd, ls, mkdir, rm)\n",
    "\n",
    "### First steps Python as a calculator\n",
    "Basic operators on the command line - Python as a calculator\n",
    "Checking the status of a variable\n",
    "Creating and running a .py file"
   ]
  },
  {
   "cell_type": "markdown",
   "metadata": {},
   "source": [
    "### First steps on the Python interpreter\n",
    "*Section adapted from Charles R. Severance, \"Python for Everybody\" [Chapter 1](https://www.py4e.com/html3/01-intro)*\n",
    "\n",
    "Open up a terminal, type `python`, and the fun begins:\n",
    "\n",
    "```\n",
    "Python 3.5.1 (v3.5.1:37a07cee5969, Dec  6 2015, 01:54:25)\n",
    "[MSC v.1900 64 bit (AMD64)] on win32\n",
    "Type \"help\", \"copyright\", \"credits\" or \"license\" for more information.\n",
    ">>>\n",
    "```\n",
    "\n",
    "The >>> prompt is the Python interpreter's way of asking you, \"What do you want me to do next?\" Python is ready to have a conversation with you. All you have to know is how to speak the Python language.\n",
    "\n",
    "Let's say for example that you did not know even the simplest Python language words or sentences. You might want to use the standard line that astronauts use when they land on a faraway planet and try to speak with the inhabitants of the planet:\n",
    "\n",
    "```\n",
    ">>> I come in peace, please take me to your leader\n",
    "  File \"<stdin>\", line 1\n",
    "    I come in peace, please take me to your leader\n",
    "         ^\n",
    "SyntaxError: invalid syntax\n",
    ">>>\n",
    "```\n",
    "\n",
    "Of course, this isn't valid Python syntax. But don't worry about the error - it doesn't do any harm. Let's try something that works on the Python interpreter (valid Python syntax):\n",
    "\n",
    "```\n",
    ">>> print('Hello world!')\n",
    "Hello world!\n",
    "```\n",
    "\n",
    "To leave the Python interpreter, you can type:\n",
    "```\n",
    ">>> quit()\n",
    "```"
   ]
  },
  {
   "cell_type": "markdown",
   "metadata": {},
   "source": [
    "### Interpreted language vs compiled languages\n",
    "*Section from Charles R. Severance, \"Python for Everybody\" [Chapter 1](https://www.py4e.com/html3/01-intro)*\n",
    "\n",
    "Python is a high-level language intended to be relatively straightforward for humans to read and write and for computers to read and process. Other high-level languages include Java, C++, PHP, Ruby, Basic, Perl, JavaScript, and many more. The actual hardware inside the Central Processing Unit (CPU) does not understand any of these high-level languages.\n",
    "\n",
    "The CPU understands a language we call machine language. Machine language is very simple and frankly very tiresome to write because it is represented all in zeros and ones:\n",
    "\n",
    "```\n",
    "001010001110100100101010000001111\n",
    "11100110000011101010010101101101\n",
    "...\n",
    "```\n",
    "\n",
    "Machine language seems quite simple on the surface, given that there are only zeros and ones, but its syntax is even more complex and far more intricate than Python. So very few programmers ever write machine language. Instead we build various translators to allow programmers to write in high-level languages like Python or JavaScript and these translators convert the programs to machine language for actual execution by the CPU.\n",
    "\n",
    "Since machine language is tied to the computer hardware, machine language is not portable across different types of hardware. Programs written in high-level languages can be moved between different computers by using a different interpreter on the new machine or recompiling the code to create a machine language version of the program for the new machine.\n",
    "\n",
    "These programming language translators fall into two general categories: (1) interpreters and (2) compilers.\n",
    "\n",
    "An interpreter reads the source code of the program as written by the programmer, parses the source code, and interprets the instructions on the fly. Python is an interpreter and when we are running Python interactively, we can type a line of Python (a sentence) and Python processes it immediately and is ready for us to type another line of Python.\n",
    "\n",
    "Some of the lines of Python tell Python that you want it to remember some value for later. We need to pick a name for that value to be remembered and we can use that symbolic name to retrieve the value later. We use the term variable to refer to the labels we use to refer to this stored data.\n",
    "\n",
    "```\n",
    "    >>> x = 6\n",
    "    >>> print(x)\n",
    "    6\n",
    "    >>> y = x * 7\n",
    "    >>> print(y)\n",
    "    42\n",
    "    >>>\n",
    "```\n",
    "\n",
    "In this example, we ask Python to remember the value six and use the label x so we can retrieve the value later. We verify that Python has actually remembered the value using print. Then we ask Python to retrieve x and multiply it by seven and put the newly computed value in y. Then we ask Python to print out the value currently in y.\n",
    "\n",
    "Even though we are typing these commands into Python one line at a time, Python is treating them as an ordered sequence of statements with later statements able to retrieve data created in earlier statements. We are writing our first simple paragraph with four sentences in a logical and meaningful order.\n",
    "\n",
    "It is the nature of an interpreter to be able to have an interactive conversation as shown above. A compiler needs to be handed the entire program in a file, and then it runs a process to translate the high-level source code into machine language and then the compiler puts the resulting machine language into a file for later execution.\n",
    "\n",
    "If you have a Windows system, often these executable machine language programs have a suffix of \".exe\" or \".dll\" which stand for \"executable\" and \"dynamic link library\" respectively. In Linux and Macintosh, there is no suffix that uniquely marks a file as executable.\n",
    "\n",
    "If you were to open an executable file in a text editor, it would look completely crazy and be unreadable:\n",
    "\n",
    "```\n",
    "^?ELF^A^A^A^@^@^@^@^@^@^@^@^@^B^@^C^@^A^@^@^@\\xa0\\x82\n",
    "^D^H4^@^@^@\\x90^]^@^@^@^@^@^@4^@ ^@^G^@(^@$^@!^@^F^@\n",
    "^@^@4^@^@^@4\\x80^D^H4\\x80^D^H\\xe0^@^@^@\\xe0^@^@^@^E\n",
    "^@^@^@^D^@^@^@^C^@^@^@^T^A^@^@^T\\x81^D^H^T\\x81^D^H^S\n",
    "^@^@^@^S^@^@^@^D^@^@^@^A^@^@^@^A\\^D^HQVhT\\x83^D^H\\xe8\n",
    "....\n",
    "```\n",
    "\n",
    "It is not easy to read or write machine language, so it is nice that we have interpreters and compilers that allow us to write in high-level languages like Python or C.\n",
    "\n",
    "Now at this point in our discussion of compilers and interpreters, you should be wondering a bit about the Python interpreter itself. What language is it written in? Is it written in a compiled language? When we type \"python\", what exactly is happening?\n",
    "\n",
    "The Python interpreter is written in a high-level language called \"C\". You can look at the actual source code for the Python interpreter by going to www.python.org and working your way to their source code. So Python is a program itself and it is compiled into machine code. When you installed Python on your computer (or the vendor installed it), you copied a machine-code copy of the translated Python program onto your system. In Windows, the executable machine code for Python itself is likely in a file with a name like:\n",
    "\n",
    "```\n",
    "C:\\Python35\\python.exe\n",
    "```\n",
    "\n",
    "That is more than you really need to know to be a Python programmer, but sometimes it pays to answer those little nagging questions right at the beginning."
   ]
  },
  {
   "cell_type": "markdown",
   "metadata": {},
   "source": [
    "### Writing programs\n",
    "*Section adapted from Charles R. Severance, \"Python for Everybody\" [Chapter 1](https://www.py4e.com/html3/01-intro)*\n",
    "\n",
    "Typing commands into the Python interpreter is a great way to experiment with Python's features, but it is not recommended for solving more complex problems.\n",
    "\n",
    "When we want to write a program, we use a text editor to write the Python instructions into a file, which is called a script. By convention, Python scripts have names that end with .py.\n",
    "\n",
    "Say you've created a text file called `hello.py` with the following contents:\n",
    "\n",
    "```\n",
    "print('Hello world!')\n",
    "```\n",
    "\n",
    "To execute the script, you have to tell the Python interpreter the name of the file. In a Unix terminal (similar to Linux and MacOS terminal in terms of commands) or a Windows command window, you would type python hello.py as follows:\n",
    "\n",
    "```\n",
    "python hello.py\n",
    "```\n",
    "\n",
    "We call the Python interpreter and tell it to read its source code from the file \"hello.py\" instead of prompting us for lines of Python code interactively.\n",
    "\n",
    "You will notice that there was no need to have quit() at the end of the Python program in the file. When Python is reading your source code from a file, it knows to stop when it reaches the end of the file.\n",
    "\n",
    "#### What is a program?\n",
    "The definition of a program at its most basic is a sequence of Python statements that have been crafted to do something. Even our simple hello.py script is a program. It is a one-line program and is not particularly useful, but in the strictest definition, it is a Python program.\n",
    "\n",
    "It might be easiest to understand what a program is by thinking about a problem that a program might be built to solve, and then looking at a program that would solve that problem.\n",
    "\n",
    "Lets say you are doing Social Computing research on Facebook posts and you are interested in the most frequently used word in a series of posts. You could print out the stream of Facebook posts and pore over the text looking for the most common word, but that would take a long time and be very mistake prone. You would be smart to write a Python program to handle the task quickly and accurately so you can spend the weekend doing something fun.\n",
    "\n",
    "For example, look at the following text about a clown and a car. Look at the text and figure out the most common word and how many times it occurs.\n",
    "\n",
    "```\n",
    "the clown ran after the car and the car ran into the tent\n",
    "and the tent fell down on the clown and the car\n",
    "```\n",
    "\n",
    "Then imagine that you are doing this task looking at millions of lines of text. Frankly it would be quicker for you to learn Python and write a Python program to count the words than it would be to manually scan the words.\n",
    "\n",
    "The even better news is that I already came up with a simple program to find the most common word in a text file. I wrote it, tested it, and now I am giving it to you to use so you can save some time.\n",
    "\n",
    "```\n",
    "name = input('Enter file:')\n",
    "handle = open(name, 'r')\n",
    "counts = dict()\n",
    "\n",
    "for line in handle:\n",
    "    words = line.split()\n",
    "    for word in words:\n",
    "        counts[word] = counts.get(word, 0) + 1\n",
    "\n",
    "bigcount = None\n",
    "bigword = None\n",
    "for word, count in list(counts.items()):\n",
    "    if bigcount is None or count > bigcount:\n",
    "        bigword = word\n",
    "        bigcount = count\n",
    "\n",
    "print(bigword, bigcount)\n",
    "\n",
    "# Code: http://www.py4e.com/code3/words.py\n",
    "```\n",
    "\n",
    "You don't even need to know Python to use this program. You will need to get through Chapter 10 of this book to fully understand the awesome Python techniques that were used to make the program. You are the end user, you simply use the program and marvel at its cleverness and how it saved you so much manual effort. You simply type the code into a file called words.py and run it or you download the source code from http://www.py4e.com/code3/ and run it.\n",
    "\n",
    "This is a good example of how Python and the Python language are acting as an intermediary between you (the end user) and me (the programmer). Python is a way for us to exchange useful instruction sequences (i.e., programs) in a common language that can be used by anyone who installs Python on their computer. So neither of us are talking to Python, instead we are communicating with each other through Python."
   ]
  },
  {
   "cell_type": "markdown",
   "metadata": {},
   "source": [
    "## Introduction to data type objects\n",
    "Data types are the building blocks of our program that form the raw material that we process with out programs. In Python, all data types are objects, and there are a number of built in object types that are commonly used.\n",
    "\n",
    "- Numeric data types: **integers** and **floats**\n",
    "- **Booleans** (logical data type, `True` or `False`)\n",
    "- **Strings** (sequence of characters)\n",
    "- Collections – data types that may contain any kind of object (including other collections)\n",
    "    - **Lists** (sequences that are mutable, or changable)\n",
    "    - **Tuples** (sequences that are immutable, or static)\n",
    "    - **Dictionaries** (mappings from a key to a value)"
   ]
  },
  {
   "cell_type": "markdown",
   "metadata": {},
   "source": [
    "### Numbers\n",
    "There are two primary numerical data types in Python that you'll see: integers and floats. For integers, these will be whole numbers (e.g. 1,2,3,60000,-12,0). Floats (or floating point numbers) enable decimal values to be included.\n",
    "\n",
    "*For reference, the function `type()` below returns the type of object.*"
   ]
  },
  {
   "cell_type": "code",
   "execution_count": 81,
   "metadata": {},
   "outputs": [
    {
     "data": {
      "text/plain": [
       "int"
      ]
     },
     "execution_count": 81,
     "metadata": {},
     "output_type": "execute_result"
    }
   ],
   "source": [
    "x = 3\n",
    "type(x)"
   ]
  },
  {
   "cell_type": "code",
   "execution_count": 82,
   "metadata": {},
   "outputs": [
    {
     "data": {
      "text/plain": [
       "float"
      ]
     },
     "execution_count": 82,
     "metadata": {},
     "output_type": "execute_result"
    }
   ],
   "source": [
    "x = 3.4\n",
    "type(x)"
   ]
  },
  {
   "cell_type": "markdown",
   "metadata": {},
   "source": [
    "When you divide two integers that do not result in an integer, the result is a float (this is true in Python 3.x, but the behavior was different in Python 2.7)."
   ]
  },
  {
   "cell_type": "code",
   "execution_count": 83,
   "metadata": {},
   "outputs": [
    {
     "name": "stdout",
     "output_type": "stream",
     "text": [
      "<class 'int'>\n",
      "<class 'int'>\n",
      "3.5\n",
      "<class 'float'>\n"
     ]
    }
   ],
   "source": [
    "a = 7\n",
    "b = 2\n",
    "print(type(a))\n",
    "print(type(b))\n",
    "c = a / b\n",
    "print(c)\n",
    "print(type(c))"
   ]
  },
  {
   "cell_type": "markdown",
   "metadata": {},
   "source": [
    "#### \\*\\*\\*Reading\\*\\*\\*\n",
    "\n",
    "Please read [Variables, expressions, and statements](https://www.py4e.com/html3/02-variables) from Python for Everybody by Charles Severance.\n",
    "\n",
    "Supplementary videos that cover this material are also [available here](https://www.py4e.com/lessons/memory)"
   ]
  },
  {
   "cell_type": "markdown",
   "metadata": {},
   "source": [
    "### Strings\n",
    "Strings are sequences of characters. For example 'Data Science' contains 12 characters including one space in a particular order (or sequence)."
   ]
  },
  {
   "cell_type": "code",
   "execution_count": 84,
   "metadata": {},
   "outputs": [
    {
     "data": {
      "text/plain": [
       "str"
      ]
     },
     "execution_count": 84,
     "metadata": {},
     "output_type": "execute_result"
    }
   ],
   "source": [
    "x = 'this'\n",
    "type(x)"
   ]
  },
  {
   "cell_type": "markdown",
   "metadata": {},
   "source": [
    "### \\*\\*\\*Reading\\*\\*\\*\n",
    "\n",
    "Please read [Strings](https://www.py4e.com/html3/06-strings) from Python for Everybody by Charles Severance.\n",
    "\n",
    "Supplementary videos that cover this material are also [available here](https://www.py4e.com/lessons/logic)"
   ]
  },
  {
   "cell_type": "markdown",
   "metadata": {},
   "source": [
    "### Booleans\n",
    "Booleans are data type objects that can take on two values, `True` or `False`, which are used for logical operations"
   ]
  },
  {
   "cell_type": "code",
   "execution_count": 85,
   "metadata": {},
   "outputs": [
    {
     "data": {
      "text/plain": [
       "bool"
      ]
     },
     "execution_count": 85,
     "metadata": {},
     "output_type": "execute_result"
    }
   ],
   "source": [
    "x = True\n",
    "type(x)"
   ]
  },
  {
   "cell_type": "markdown",
   "metadata": {},
   "source": [
    "### Variable names\n",
    "There are a few rules around naming variables. You cannot name variables starting with a number, so `1000miles` is not a valid variable name. You can use numbers in variable names, but they just can't begin the name. So `miles1000` is legal syntax. You can use letters, numbers, and underscores, but not other symbols. Therefore, eat@joes is not a valid name.\n",
    "\n",
    "We'll talk more about style later, but generally, you'll want to make these variable names meaningful. Let's say you were trying to represent the speed of a train. You could use a variable `s`, but there are a lot of things that could mean. A better (and more descriptive) name would be `speed`, and better still would be `speed_of_train`. Now, you want this to be within a reasonable length, so `speed_of_train_from_boston_to_new_york_through_new_haven_and_providence` is not an ideal name because it's far too long. Use common sense and above all, make your code readable so someone else could easily pick it up, understand it, and use it.\n",
    "\n",
    "There are also a number of reserved words for the Python language that you cannot use in your programs:\n",
    "\n",
    "| | | | | |\n",
    "|----------|----------|----------|----------|-------|\n",
    "|and       |del       |from      |None      |True   |\n",
    "|as        |elif      |global    |nonlocal  |try    |\n",
    "|assert    |else      |if        |not       |while  |\n",
    "|break     |except    |import    |or        |with   |\n",
    "|class     |False     |in        |pass      |yield  |\n",
    "|continue  |finally   |is        |raise     |       |\n",
    "|def       |for       |lambda    |return    |       |"
   ]
  },
  {
   "cell_type": "markdown",
   "metadata": {},
   "source": [
    "### Containers: lists and tuples\n",
    "Containers (or sequences) can hold multiple basic data types (integers, floats, Booleans, strings). Lists are defined with brackets [], and tuples are defined with parentheses (). Either can contain"
   ]
  },
  {
   "cell_type": "code",
   "execution_count": 86,
   "metadata": {},
   "outputs": [
    {
     "data": {
      "text/plain": [
       "list"
      ]
     },
     "execution_count": 86,
     "metadata": {},
     "output_type": "execute_result"
    }
   ],
   "source": [
    "x = [1,2,3]\n",
    "type(x)"
   ]
  },
  {
   "cell_type": "code",
   "execution_count": 87,
   "metadata": {},
   "outputs": [
    {
     "data": {
      "text/plain": [
       "tuple"
      ]
     },
     "execution_count": 87,
     "metadata": {},
     "output_type": "execute_result"
    }
   ],
   "source": [
    "x = (1,2,3)\n",
    "type(x)"
   ]
  },
  {
   "cell_type": "markdown",
   "metadata": {},
   "source": [
    "You can also mix and match data types in these containers"
   ]
  },
  {
   "cell_type": "code",
   "execution_count": 88,
   "metadata": {},
   "outputs": [
    {
     "name": "stdout",
     "output_type": "stream",
     "text": [
      "[1, 2, 'this', True]\n"
     ]
    }
   ],
   "source": [
    "x = [1,2,'this',True]\n",
    "print(x)"
   ]
  },
  {
   "cell_type": "code",
   "execution_count": 89,
   "metadata": {},
   "outputs": [
    {
     "name": "stdout",
     "output_type": "stream",
     "text": [
      "(1, 2, 'this', True)\n"
     ]
    }
   ],
   "source": [
    "x = (1,2,'this',True)\n",
    "print(x)"
   ]
  },
  {
   "cell_type": "markdown",
   "metadata": {},
   "source": [
    "These containers can even contain other containers!"
   ]
  },
  {
   "cell_type": "code",
   "execution_count": 90,
   "metadata": {},
   "outputs": [
    {
     "name": "stdout",
     "output_type": "stream",
     "text": [
      "[1, [2, 3, 4], 'this', ('this', 2), True]\n"
     ]
    }
   ],
   "source": [
    "x = [1,[2,3,4],'this',('this',2),True]\n",
    "print(x)"
   ]
  },
  {
   "cell_type": "code",
   "execution_count": 91,
   "metadata": {
    "scrolled": true
   },
   "outputs": [
    {
     "name": "stdout",
     "output_type": "stream",
     "text": [
      "(1, [2, 3, 4], 'this', ('this', 2), True)\n"
     ]
    }
   ],
   "source": [
    "x = (1,[2,3,4],'this',('this',2),True)\n",
    "print(x)"
   ]
  },
  {
   "cell_type": "markdown",
   "metadata": {},
   "source": [
    "In practice, we'll most commonly see these lists with more homogeneous data types, (e.g. all numbers, or all text) and tuples with more heterogeneous sequences."
   ]
  },
  {
   "cell_type": "code",
   "execution_count": 92,
   "metadata": {
    "collapsed": true
   },
   "outputs": [],
   "source": [
    "x = [1,2,6,32,7,8,4,3]\n",
    "y = (10, 'Downing Street', 'London', 'United Kingdom')"
   ]
  },
  {
   "cell_type": "markdown",
   "metadata": {},
   "source": [
    "Mutable means changeable or dynamic (think the word \"mutation\"). Immutable means unable to be changed, or static. An example of a mutable data type is a list."
   ]
  },
  {
   "cell_type": "code",
   "execution_count": 93,
   "metadata": {},
   "outputs": [
    {
     "name": "stdout",
     "output_type": "stream",
     "text": [
      "[99, 2, 3, 4, 5]\n"
     ]
    }
   ],
   "source": [
    "x = [1,2,3,4,5]\n",
    "x[0] = 99\n",
    "print(x)"
   ]
  },
  {
   "cell_type": "markdown",
   "metadata": {},
   "source": [
    "Tuples, on the other hand, are immutable, and you'll get an error if you try to change one of their elements."
   ]
  },
  {
   "cell_type": "code",
   "execution_count": 94,
   "metadata": {},
   "outputs": [
    {
     "ename": "TypeError",
     "evalue": "'tuple' object does not support item assignment",
     "output_type": "error",
     "traceback": [
      "\u001b[1;31m---------------------------------------------------------------------------\u001b[0m",
      "\u001b[1;31mTypeError\u001b[0m                                 Traceback (most recent call last)",
      "\u001b[1;32m<ipython-input-94-efef77817f23>\u001b[0m in \u001b[0;36m<module>\u001b[1;34m()\u001b[0m\n\u001b[0;32m      1\u001b[0m \u001b[0mx\u001b[0m \u001b[1;33m=\u001b[0m \u001b[1;33m(\u001b[0m\u001b[1;36m1\u001b[0m\u001b[1;33m,\u001b[0m\u001b[1;36m2\u001b[0m\u001b[1;33m,\u001b[0m\u001b[1;36m3\u001b[0m\u001b[1;33m,\u001b[0m\u001b[1;36m4\u001b[0m\u001b[1;33m,\u001b[0m\u001b[1;36m5\u001b[0m\u001b[1;33m)\u001b[0m\u001b[1;33m\u001b[0m\u001b[0m\n\u001b[1;32m----> 2\u001b[1;33m \u001b[0mx\u001b[0m\u001b[1;33m[\u001b[0m\u001b[1;36m0\u001b[0m\u001b[1;33m]\u001b[0m \u001b[1;33m=\u001b[0m \u001b[1;36m99\u001b[0m\u001b[1;33m\u001b[0m\u001b[0m\n\u001b[0m",
      "\u001b[1;31mTypeError\u001b[0m: 'tuple' object does not support item assignment"
     ]
    }
   ],
   "source": [
    "x = (1,2,3,4,5)\n",
    "x[0] = 99"
   ]
  },
  {
   "cell_type": "markdown",
   "metadata": {},
   "source": [
    "#### \\*\\*\\*Reading\\*\\*\\*\n",
    "\n",
    "Please read [Lists](https://www.py4e.com/html3/08-lists) from Python for Everybody by Charles Severance.\n",
    "\n",
    "Please read [Tuples](https://www.py4e.com/html3/10-tuples) from Python for Everybody by Charles Severance.\n",
    "\n",
    "Supplementary videos that cover this material are also available for [lists](https://www.py4e.com/lessons/lists) and for [tuples](https://www.py4e.com/lessons/tuples)"
   ]
  },
  {
   "cell_type": "markdown",
   "metadata": {},
   "source": [
    "### Dictionaries\n",
    "Then there are dictionaries. Think about how a tradition paper dictionary works. You want to search for a definition (we'll call these values), and the definition is connected with a particular word (we'll call these keys). You open up the dictionary, search for the key, and by doing so are able to retrieve the corresponding value. That's how a dictionary works here: it *maps* keys to values.\n",
    "\n",
    "Let's start with an example with two key-value pairs. Let's assume we are representing the ages of two people, Sheila, age 34, and Robert, age 17. We can represent this with the following dictionary:"
   ]
  },
  {
   "cell_type": "code",
   "execution_count": 95,
   "metadata": {},
   "outputs": [
    {
     "name": "stdout",
     "output_type": "stream",
     "text": [
      "{'Sheila': 34, 'Robert': 17}\n"
     ]
    }
   ],
   "source": [
    "age = {'Sheila': 34, 'Robert': 17}\n",
    "print(age)"
   ]
  },
  {
   "cell_type": "markdown",
   "metadata": {},
   "source": [
    "If you want to know what Sheila's age is, just look it up as you would in a dictionary."
   ]
  },
  {
   "cell_type": "code",
   "execution_count": 96,
   "metadata": {},
   "outputs": [
    {
     "data": {
      "text/plain": [
       "34"
      ]
     },
     "execution_count": 96,
     "metadata": {},
     "output_type": "execute_result"
    }
   ],
   "source": [
    "age['Sheila']"
   ]
  },
  {
   "cell_type": "markdown",
   "metadata": {},
   "source": [
    "Now, dictionaries are also mutable, so they can be changed after being created. Let's adjust Robert's age to 18. Let's also add Polly, age 42, to the dictionary."
   ]
  },
  {
   "cell_type": "code",
   "execution_count": 97,
   "metadata": {},
   "outputs": [
    {
     "name": "stdout",
     "output_type": "stream",
     "text": [
      "{'Sheila': 34, 'Robert': 18, 'Polly': 42}\n"
     ]
    }
   ],
   "source": [
    "age['Robert'] = 18\n",
    "age['Polly']  = 42\n",
    "print(age)"
   ]
  },
  {
   "cell_type": "markdown",
   "metadata": {},
   "source": [
    "We'll return to each of these data types in the context"
   ]
  },
  {
   "cell_type": "markdown",
   "metadata": {},
   "source": [
    "#### \\*\\*\\*Reading\\*\\*\\*\n",
    "\n",
    "Please read [Dictionaries](https://www.py4e.com/html3/09-dictionaries) from Python for Everybody by Charles Severance.\n",
    "\n",
    "Supplementary videos that cover this material are also [available here](https://www.py4e.com/lessons/dictionary)"
   ]
  },
  {
   "cell_type": "markdown",
   "metadata": {},
   "source": [
    "## Operators\n",
    "- Basic numerical operators: +, -, \\*, /, //, \\*\\*, %\n",
    "- Assignment operators: =, +=, -=, \\*=, /=\n",
    "- Relational operators: >, <, ==, !=, >=, <=\n",
    "- Logical operators: and, or, not\n",
    "- Membership operators: in, not in"
   ]
  },
  {
   "cell_type": "markdown",
   "metadata": {},
   "source": [
    "### Basic numerical operators\n",
    "Most of the standard numerical operators will be familiar including +, -, \\*, /"
   ]
  },
  {
   "cell_type": "code",
   "execution_count": 98,
   "metadata": {},
   "outputs": [
    {
     "data": {
      "text/plain": [
       "7"
      ]
     },
     "execution_count": 98,
     "metadata": {},
     "output_type": "execute_result"
    }
   ],
   "source": [
    "5 + 2"
   ]
  },
  {
   "cell_type": "code",
   "execution_count": 99,
   "metadata": {},
   "outputs": [
    {
     "data": {
      "text/plain": [
       "3"
      ]
     },
     "execution_count": 99,
     "metadata": {},
     "output_type": "execute_result"
    }
   ],
   "source": [
    "5 - 2"
   ]
  },
  {
   "cell_type": "code",
   "execution_count": 100,
   "metadata": {},
   "outputs": [
    {
     "data": {
      "text/plain": [
       "10"
      ]
     },
     "execution_count": 100,
     "metadata": {},
     "output_type": "execute_result"
    }
   ],
   "source": [
    "5 * 2"
   ]
  },
  {
   "cell_type": "code",
   "execution_count": 101,
   "metadata": {},
   "outputs": [
    {
     "data": {
      "text/plain": [
       "2.5"
      ]
     },
     "execution_count": 101,
     "metadata": {},
     "output_type": "execute_result"
    }
   ],
   "source": [
    "5 / 2"
   ]
  },
  {
   "cell_type": "markdown",
   "metadata": {},
   "source": [
    "There are a few numerical operators that require a little bit more explanation.\n",
    "\n",
    "First, exponentiation (\\*\\*)"
   ]
  },
  {
   "cell_type": "code",
   "execution_count": 102,
   "metadata": {},
   "outputs": [
    {
     "data": {
      "text/plain": [
       "25"
      ]
     },
     "execution_count": 102,
     "metadata": {},
     "output_type": "execute_result"
    }
   ],
   "source": [
    "5 ** 2"
   ]
  },
  {
   "cell_type": "markdown",
   "metadata": {},
   "source": [
    "In addition to \"classic\" or \"true\" division, / , there is also floor division, // , which rounds the result of division down to the nearest integer."
   ]
  },
  {
   "cell_type": "code",
   "execution_count": 103,
   "metadata": {},
   "outputs": [
    {
     "data": {
      "text/plain": [
       "2"
      ]
     },
     "execution_count": 103,
     "metadata": {},
     "output_type": "execute_result"
    }
   ],
   "source": [
    "5 // 2"
   ]
  },
  {
   "cell_type": "markdown",
   "metadata": {},
   "source": [
    "The modulus operator, % , returns the remainder from division. For example, if you divide 5 by 2, you can express the result as 2 with a remainder of 1. If you divide 9 by 3 it is cleanly divided with a remainder of zero. This is often used to determine whether or not one value is a multiple of another."
   ]
  },
  {
   "cell_type": "code",
   "execution_count": 104,
   "metadata": {},
   "outputs": [
    {
     "data": {
      "text/plain": [
       "1"
      ]
     },
     "execution_count": 104,
     "metadata": {},
     "output_type": "execute_result"
    }
   ],
   "source": [
    "5 % 2"
   ]
  },
  {
   "cell_type": "code",
   "execution_count": 105,
   "metadata": {},
   "outputs": [
    {
     "data": {
      "text/plain": [
       "0"
      ]
     },
     "execution_count": 105,
     "metadata": {},
     "output_type": "execute_result"
    }
   ],
   "source": [
    "9 % 3"
   ]
  },
  {
   "cell_type": "markdown",
   "metadata": {},
   "source": [
    "### Assignment operators\n",
    "Here, we'll discuss the standard operators for assigning a value to a variable: `=`, `+=`, `-=`, `*=`, `/=`\n",
    "\n",
    "The most typically used operator is the equal sign. It assigns the expression the right to the variable on the left. It's important to note that this is different from logical operator that compares whether two quantities are equal - that is a double equals sign `==`."
   ]
  },
  {
   "cell_type": "code",
   "execution_count": 106,
   "metadata": {},
   "outputs": [
    {
     "name": "stdout",
     "output_type": "stream",
     "text": [
      "7\n"
     ]
    }
   ],
   "source": [
    "x = 7\n",
    "print(x)"
   ]
  },
  {
   "cell_type": "markdown",
   "metadata": {},
   "source": [
    "You can also assign multiple variables using tuples, lists, and strings. The number of items in the container on the left must match the number on the right."
   ]
  },
  {
   "cell_type": "code",
   "execution_count": 107,
   "metadata": {},
   "outputs": [
    {
     "name": "stdout",
     "output_type": "stream",
     "text": [
      "3\n",
      "4\n"
     ]
    }
   ],
   "source": [
    "a, b = (3, 4)\n",
    "print(a)\n",
    "print(b)"
   ]
  },
  {
   "cell_type": "markdown",
   "metadata": {},
   "source": [
    "This is equivalent to writing the following:"
   ]
  },
  {
   "cell_type": "code",
   "execution_count": 108,
   "metadata": {},
   "outputs": [
    {
     "name": "stdout",
     "output_type": "stream",
     "text": [
      "3\n",
      "4\n"
     ]
    }
   ],
   "source": [
    "(a, b) = (3, 4)\n",
    "print(a)\n",
    "print(b)"
   ]
  },
  {
   "cell_type": "markdown",
   "metadata": {},
   "source": [
    "This is also equivalent to this:"
   ]
  },
  {
   "cell_type": "code",
   "execution_count": 109,
   "metadata": {},
   "outputs": [
    {
     "name": "stdout",
     "output_type": "stream",
     "text": [
      "3\n",
      "4\n"
     ]
    }
   ],
   "source": [
    "[a, b] = (3, 4)\n",
    "print(a)\n",
    "print(b)"
   ]
  },
  {
   "cell_type": "markdown",
   "metadata": {},
   "source": [
    "You can also do this assignment with lists:"
   ]
  },
  {
   "cell_type": "code",
   "execution_count": 110,
   "metadata": {},
   "outputs": [
    {
     "name": "stdout",
     "output_type": "stream",
     "text": [
      "3\n",
      "4\n"
     ]
    }
   ],
   "source": [
    "a, b = [3, 4]\n",
    "print(a)\n",
    "print(b)"
   ]
  },
  {
   "cell_type": "code",
   "execution_count": 111,
   "metadata": {
    "scrolled": true
   },
   "outputs": [
    {
     "name": "stdout",
     "output_type": "stream",
     "text": [
      "t\n",
      "h\n"
     ]
    }
   ],
   "source": [
    "a, b = 'th'\n",
    "print(a)\n",
    "print(b)"
   ]
  },
  {
   "cell_type": "markdown",
   "metadata": {},
   "source": [
    "You can also have more than two elements involved:"
   ]
  },
  {
   "cell_type": "code",
   "execution_count": 112,
   "metadata": {},
   "outputs": [
    {
     "name": "stdout",
     "output_type": "stream",
     "text": [
      "3\n",
      "4\n",
      "9\n",
      "this\n"
     ]
    }
   ],
   "source": [
    "a, b, c, d = (3, 4, 9, 'this')\n",
    "print(a)\n",
    "print(b)\n",
    "print(c)\n",
    "print(d)"
   ]
  },
  {
   "cell_type": "markdown",
   "metadata": {},
   "source": [
    "Let's say we wanted to increment the value stored in x but keep it stored in x - this is a common task. We could write the following:"
   ]
  },
  {
   "cell_type": "code",
   "execution_count": 113,
   "metadata": {},
   "outputs": [
    {
     "name": "stdout",
     "output_type": "stream",
     "text": [
      "8\n"
     ]
    }
   ],
   "source": [
    "x = 7\n",
    "x = x + 1\n",
    "print(x)"
   ]
  },
  {
   "cell_type": "markdown",
   "metadata": {},
   "source": [
    "Or, equivalently, we could use the increment operator"
   ]
  },
  {
   "cell_type": "code",
   "execution_count": 114,
   "metadata": {},
   "outputs": [
    {
     "name": "stdout",
     "output_type": "stream",
     "text": [
      "8\n"
     ]
    }
   ],
   "source": [
    "x = 7\n",
    "x += 1\n",
    "print(x)"
   ]
  },
  {
   "cell_type": "markdown",
   "metadata": {},
   "source": [
    "We could increment by whatever value we'd like"
   ]
  },
  {
   "cell_type": "code",
   "execution_count": 115,
   "metadata": {},
   "outputs": [
    {
     "name": "stdout",
     "output_type": "stream",
     "text": [
      "11\n"
     ]
    }
   ],
   "source": [
    "x = 7\n",
    "x += 4\n",
    "print(x)"
   ]
  },
  {
   "cell_type": "code",
   "execution_count": 116,
   "metadata": {},
   "outputs": [
    {
     "ename": "SyntaxError",
     "evalue": "invalid syntax (<ipython-input-116-32ce0bf9674d>, line 1)",
     "output_type": "error",
     "traceback": [
      "\u001b[1;36m  File \u001b[1;32m\"<ipython-input-116-32ce0bf9674d>\"\u001b[1;36m, line \u001b[1;32m1\u001b[0m\n\u001b[1;33m    We could similarly decrement the value\u001b[0m\n\u001b[1;37m           ^\u001b[0m\n\u001b[1;31mSyntaxError\u001b[0m\u001b[1;31m:\u001b[0m invalid syntax\n"
     ]
    }
   ],
   "source": [
    "We could similarly decrement the value"
   ]
  },
  {
   "cell_type": "code",
   "execution_count": 117,
   "metadata": {},
   "outputs": [
    {
     "name": "stdout",
     "output_type": "stream",
     "text": [
      "6\n"
     ]
    }
   ],
   "source": [
    "x = 7\n",
    "x = x - 1\n",
    "print(x)"
   ]
  },
  {
   "cell_type": "code",
   "execution_count": 118,
   "metadata": {},
   "outputs": [
    {
     "name": "stdout",
     "output_type": "stream",
     "text": [
      "6\n"
     ]
    }
   ],
   "source": [
    "x = 7\n",
    "x -= 1\n",
    "print(x)"
   ]
  },
  {
   "cell_type": "markdown",
   "metadata": {},
   "source": [
    "There are similar operators for multiplication and division"
   ]
  },
  {
   "cell_type": "code",
   "execution_count": 119,
   "metadata": {},
   "outputs": [
    {
     "name": "stdout",
     "output_type": "stream",
     "text": [
      "14\n"
     ]
    }
   ],
   "source": [
    "x = 7\n",
    "x *= 2\n",
    "print(x)"
   ]
  },
  {
   "cell_type": "code",
   "execution_count": 120,
   "metadata": {},
   "outputs": [
    {
     "name": "stdout",
     "output_type": "stream",
     "text": [
      "3.5\n"
     ]
    }
   ],
   "source": [
    "x = 7\n",
    "x /= 2\n",
    "print(x)"
   ]
  },
  {
   "cell_type": "markdown",
   "metadata": {},
   "source": [
    "### Relational operators\n",
    "These operators are used for comparison and are typically used for numerical data:\n",
    "- Greater than >\n",
    "- Less than <\n",
    "- Equal to ==\n",
    "- Not equal to !=\n",
    "- Greater than or equal to >=\n",
    "- Less than or equal to <=\n",
    "\n",
    "Each returns a value of `True` or `False` depending on the status of the condition."
   ]
  },
  {
   "cell_type": "code",
   "execution_count": 121,
   "metadata": {},
   "outputs": [
    {
     "data": {
      "text/plain": [
       "False"
      ]
     },
     "execution_count": 121,
     "metadata": {},
     "output_type": "execute_result"
    }
   ],
   "source": [
    "2 == 3"
   ]
  },
  {
   "cell_type": "code",
   "execution_count": 122,
   "metadata": {},
   "outputs": [
    {
     "data": {
      "text/plain": [
       "True"
      ]
     },
     "execution_count": 122,
     "metadata": {},
     "output_type": "execute_result"
    }
   ],
   "source": [
    "2 < 3"
   ]
  },
  {
   "cell_type": "code",
   "execution_count": 123,
   "metadata": {},
   "outputs": [
    {
     "data": {
      "text/plain": [
       "False"
      ]
     },
     "execution_count": 123,
     "metadata": {},
     "output_type": "execute_result"
    }
   ],
   "source": [
    "2 > 3"
   ]
  },
  {
   "cell_type": "code",
   "execution_count": 124,
   "metadata": {},
   "outputs": [
    {
     "data": {
      "text/plain": [
       "True"
      ]
     },
     "execution_count": 124,
     "metadata": {},
     "output_type": "execute_result"
    }
   ],
   "source": [
    "2 != 3"
   ]
  },
  {
   "cell_type": "code",
   "execution_count": 125,
   "metadata": {},
   "outputs": [
    {
     "data": {
      "text/plain": [
       "False"
      ]
     },
     "execution_count": 125,
     "metadata": {},
     "output_type": "execute_result"
    }
   ],
   "source": [
    "2 >= 3"
   ]
  },
  {
   "cell_type": "code",
   "execution_count": 126,
   "metadata": {},
   "outputs": [
    {
     "data": {
      "text/plain": [
       "True"
      ]
     },
     "execution_count": 126,
     "metadata": {},
     "output_type": "execute_result"
    }
   ],
   "source": [
    "2 <= 3"
   ]
  },
  {
   "cell_type": "markdown",
   "metadata": {},
   "source": [
    "### Logical operators\n",
    "There are three primary logical operators: `and`, `or`, and `not`. If both arguments in the expression are True, then the `and` statement returns true. If one or more of the arguments in the expression are True, then `or` returns true. `not` returns the opposite of the argument."
   ]
  },
  {
   "cell_type": "code",
   "execution_count": 127,
   "metadata": {},
   "outputs": [
    {
     "data": {
      "text/plain": [
       "False"
      ]
     },
     "execution_count": 127,
     "metadata": {},
     "output_type": "execute_result"
    }
   ],
   "source": [
    "t = True\n",
    "f = False\n",
    "\n",
    "t and f"
   ]
  },
  {
   "cell_type": "code",
   "execution_count": 128,
   "metadata": {},
   "outputs": [
    {
     "data": {
      "text/plain": [
       "True"
      ]
     },
     "execution_count": 128,
     "metadata": {},
     "output_type": "execute_result"
    }
   ],
   "source": [
    "t and t"
   ]
  },
  {
   "cell_type": "code",
   "execution_count": 129,
   "metadata": {},
   "outputs": [
    {
     "data": {
      "text/plain": [
       "False"
      ]
     },
     "execution_count": 129,
     "metadata": {},
     "output_type": "execute_result"
    }
   ],
   "source": [
    "f and f"
   ]
  },
  {
   "cell_type": "code",
   "execution_count": 130,
   "metadata": {},
   "outputs": [
    {
     "data": {
      "text/plain": [
       "True"
      ]
     },
     "execution_count": 130,
     "metadata": {},
     "output_type": "execute_result"
    }
   ],
   "source": [
    "t or f"
   ]
  },
  {
   "cell_type": "code",
   "execution_count": 131,
   "metadata": {},
   "outputs": [
    {
     "data": {
      "text/plain": [
       "True"
      ]
     },
     "execution_count": 131,
     "metadata": {},
     "output_type": "execute_result"
    }
   ],
   "source": [
    "t or t"
   ]
  },
  {
   "cell_type": "code",
   "execution_count": 132,
   "metadata": {},
   "outputs": [
    {
     "data": {
      "text/plain": [
       "False"
      ]
     },
     "execution_count": 132,
     "metadata": {},
     "output_type": "execute_result"
    }
   ],
   "source": [
    "f or f"
   ]
  },
  {
   "cell_type": "code",
   "execution_count": 133,
   "metadata": {},
   "outputs": [
    {
     "data": {
      "text/plain": [
       "False"
      ]
     },
     "execution_count": 133,
     "metadata": {},
     "output_type": "execute_result"
    }
   ],
   "source": [
    "not t"
   ]
  },
  {
   "cell_type": "markdown",
   "metadata": {},
   "source": [
    "Of course, you can combine these together, nesting them, to make more intricate expressions."
   ]
  },
  {
   "cell_type": "code",
   "execution_count": 134,
   "metadata": {},
   "outputs": [
    {
     "data": {
      "text/plain": [
       "False"
      ]
     },
     "execution_count": 134,
     "metadata": {},
     "output_type": "execute_result"
    }
   ],
   "source": [
    "(t and f) or (f and f)"
   ]
  },
  {
   "cell_type": "markdown",
   "metadata": {},
   "source": [
    "It's worthwhile to know that EVERY object has a corresponding Boolean value. The following each evaluate to `False`:\n",
    "- False\n",
    "- None\n",
    "- 0\n",
    "- Empty collections [], (), {}\n",
    "\n",
    "With a few other exceptions, most things will return True. Here are some examples to demonstrate:"
   ]
  },
  {
   "cell_type": "code",
   "execution_count": 135,
   "metadata": {},
   "outputs": [
    {
     "data": {
      "text/plain": [
       "False"
      ]
     },
     "execution_count": 135,
     "metadata": {},
     "output_type": "execute_result"
    }
   ],
   "source": [
    "x = 7\n",
    "not x"
   ]
  },
  {
   "cell_type": "code",
   "execution_count": 136,
   "metadata": {},
   "outputs": [
    {
     "data": {
      "text/plain": [
       "True"
      ]
     },
     "execution_count": 136,
     "metadata": {},
     "output_type": "execute_result"
    }
   ],
   "source": [
    "x = 0\n",
    "not x"
   ]
  },
  {
   "cell_type": "code",
   "execution_count": 137,
   "metadata": {},
   "outputs": [
    {
     "data": {
      "text/plain": [
       "True"
      ]
     },
     "execution_count": 137,
     "metadata": {},
     "output_type": "execute_result"
    }
   ],
   "source": [
    "x = []\n",
    "not x"
   ]
  },
  {
   "cell_type": "code",
   "execution_count": 138,
   "metadata": {},
   "outputs": [
    {
     "data": {
      "text/plain": [
       "False"
      ]
     },
     "execution_count": 138,
     "metadata": {},
     "output_type": "execute_result"
    }
   ],
   "source": [
    "x = [1,3,4]\n",
    "not x"
   ]
  },
  {
   "cell_type": "code",
   "execution_count": 139,
   "metadata": {},
   "outputs": [
    {
     "data": {
      "text/plain": [
       "True"
      ]
     },
     "execution_count": 139,
     "metadata": {},
     "output_type": "execute_result"
    }
   ],
   "source": [
    "x = None\n",
    "not x"
   ]
  },
  {
   "cell_type": "markdown",
   "metadata": {},
   "source": [
    "### Membership operators\n",
    "Imagine that we have a list and want to determine whether or not a certain entry is contained in that list. The operators `in` and `not in` are specifically for that purpose. They return a Boolean that corresponds to whether or not the condition is true."
   ]
  },
  {
   "cell_type": "code",
   "execution_count": 140,
   "metadata": {},
   "outputs": [
    {
     "data": {
      "text/plain": [
       "True"
      ]
     },
     "execution_count": 140,
     "metadata": {},
     "output_type": "execute_result"
    }
   ],
   "source": [
    "mylist = [1,3,6,8,23,256]\n",
    "3 in mylist"
   ]
  },
  {
   "cell_type": "code",
   "execution_count": 141,
   "metadata": {},
   "outputs": [
    {
     "data": {
      "text/plain": [
       "True"
      ]
     },
     "execution_count": 141,
     "metadata": {},
     "output_type": "execute_result"
    }
   ],
   "source": [
    "4 not in mylist"
   ]
  },
  {
   "cell_type": "markdown",
   "metadata": {},
   "source": [
    "It also works with mixed object types"
   ]
  },
  {
   "cell_type": "code",
   "execution_count": 142,
   "metadata": {},
   "outputs": [
    {
     "data": {
      "text/plain": [
       "True"
      ]
     },
     "execution_count": 142,
     "metadata": {},
     "output_type": "execute_result"
    }
   ],
   "source": [
    "mynewlist = [1,3,6,8,23,256,'this','that']\n",
    "'this' in mynewlist"
   ]
  },
  {
   "cell_type": "markdown",
   "metadata": {
    "collapsed": true
   },
   "source": [
    "And tuples work similarly"
   ]
  },
  {
   "cell_type": "code",
   "execution_count": 143,
   "metadata": {},
   "outputs": [
    {
     "data": {
      "text/plain": [
       "True"
      ]
     },
     "execution_count": 143,
     "metadata": {},
     "output_type": "execute_result"
    }
   ],
   "source": [
    "mynewtuple = (1,3,6,8,23,256,'this','that')\n",
    "'this' in mynewtuple"
   ]
  },
  {
   "cell_type": "markdown",
   "metadata": {},
   "source": [
    "## Flow control: conditional execution and repetition structures\n",
    "We typically control the flow of our programs with conditional statements (if statements) and loops (for and while)."
   ]
  },
  {
   "cell_type": "markdown",
   "metadata": {},
   "source": [
    "#### \\*\\*\\*Reading\\*\\*\\*\n",
    "\n",
    "Please read [Conditional Execution](https://www.py4e.com/html3/03-conditional) from Python for Everybody by Charles Severance.\n",
    "\n",
    "Supplementary videos that cover this material are also [available here](https://www.py4e.com/lessons/logic)"
   ]
  },
  {
   "cell_type": "markdown",
   "metadata": {},
   "source": [
    "### if...elif...else\n",
    "If statements allow you to take different actions in your program depending on whether or not specific conditions are satisfied. For example, if a stoplight is green, you can drive your car forward, otherwise, you should not."
   ]
  },
  {
   "cell_type": "code",
   "execution_count": 144,
   "metadata": {
    "collapsed": true
   },
   "outputs": [],
   "source": [
    "light = 'green'\n",
    "action = 'stop'\n",
    "\n",
    "if light == 'green':\n",
    "    action = 'drive'"
   ]
  },
  {
   "cell_type": "markdown",
   "metadata": {},
   "source": [
    "This is the most basic form of the `if` statement, but we can add more to it."
   ]
  },
  {
   "cell_type": "code",
   "execution_count": 145,
   "metadata": {},
   "outputs": [
    {
     "name": "stdout",
     "output_type": "stream",
     "text": [
      "drive\n"
     ]
    }
   ],
   "source": [
    "light = 'green'\n",
    "\n",
    "if light == 'green':\n",
    "    action = 'drive'\n",
    "else:\n",
    "    action = 'stop'\n",
    "print(action)"
   ]
  },
  {
   "cell_type": "markdown",
   "metadata": {},
   "source": [
    "Note a couple of things:\n",
    "1. If the `if` indition is not evaluated to be True, then the `else` statement is executed\n",
    "2. The if statement requires a colon at the end of it - this is required. \n",
    "3. The indentation at the beginning of the line after the if statement and the else statement is important - this is critical for your code to run since spaces have meaning in Python. \n",
    "\n",
    "Consider the following and note the error that results because there wasn't an indentation."
   ]
  },
  {
   "cell_type": "code",
   "execution_count": 146,
   "metadata": {},
   "outputs": [
    {
     "ename": "IndentationError",
     "evalue": "expected an indented block (<ipython-input-146-80f5d7a38e09>, line 4)",
     "output_type": "error",
     "traceback": [
      "\u001b[1;36m  File \u001b[1;32m\"<ipython-input-146-80f5d7a38e09>\"\u001b[1;36m, line \u001b[1;32m4\u001b[0m\n\u001b[1;33m    action = 'drive'\u001b[0m\n\u001b[1;37m         ^\u001b[0m\n\u001b[1;31mIndentationError\u001b[0m\u001b[1;31m:\u001b[0m expected an indented block\n"
     ]
    }
   ],
   "source": [
    "light = 'green'\n",
    "\n",
    "if light == 'green':\n",
    "action = 'drive'\n",
    "else:\n",
    "action = 'stop'\n",
    "print(drive)"
   ]
  },
  {
   "cell_type": "markdown",
   "metadata": {},
   "source": [
    "We can have more than one condition to consider using the `elif` statement which is short for \"else if\". In this case, the `if` expression is first evaluated and if true, the statement below it is run and no other component of the if/elif/else block are executed. If the `if` expression evaluates to `False`, then the program evaluates the first `elif` statement. Only if the `if` expression and all the `elif` expressions are evaluated as false will the `else` statement be executed."
   ]
  },
  {
   "cell_type": "code",
   "execution_count": 147,
   "metadata": {},
   "outputs": [
    {
     "name": "stdout",
     "output_type": "stream",
     "text": [
      "proceed with caution - the light is broken!\n"
     ]
    }
   ],
   "source": [
    "light = 'blue'\n",
    "\n",
    "if light == 'green':\n",
    "    action = 'drive'\n",
    "elif light == 'yellow':\n",
    "    action = 'stop'\n",
    "elif light == 'green':\n",
    "    action = 'drive'\n",
    "else:\n",
    "    action = 'proceed with caution - the light is broken!'\n",
    "print(action)"
   ]
  },
  {
   "cell_type": "markdown",
   "metadata": {},
   "source": [
    "You can also add in other logical expressions"
   ]
  },
  {
   "cell_type": "code",
   "execution_count": 148,
   "metadata": {},
   "outputs": [
    {
     "name": "stdout",
     "output_type": "stream",
     "text": [
      "stop\n"
     ]
    }
   ],
   "source": [
    "light = 'blue'\n",
    "action = 'drive'\n",
    "\n",
    "if not light == 'green':\n",
    "    action = 'stop'\n",
    "\n",
    "print(action)"
   ]
  },
  {
   "cell_type": "markdown",
   "metadata": {},
   "source": [
    "## Iteration\n",
    "Loops are the primary way that we can call the same series of commands over and over to accomplish a task."
   ]
  },
  {
   "cell_type": "markdown",
   "metadata": {},
   "source": [
    "### While loops\n",
    "The while loop is the most basic of the Python looping structures. The while loop continues to execute the block of code as long as the test at the top of the loop is true. "
   ]
  },
  {
   "cell_type": "code",
   "execution_count": 149,
   "metadata": {},
   "outputs": [
    {
     "name": "stdout",
     "output_type": "stream",
     "text": [
      "1\n",
      "2\n",
      "3\n",
      "4\n",
      "5\n",
      "6\n",
      "7\n",
      "8\n",
      "9\n",
      "10\n"
     ]
    }
   ],
   "source": [
    "x = 0\n",
    "while x != 10:\n",
    "    x = x + 1\n",
    "    print(x)\n",
    "    "
   ]
  },
  {
   "cell_type": "markdown",
   "metadata": {},
   "source": [
    "Using loops can occasionally end up with you stuck in an infinite loop if there's a logical error in the code or a problem with the input data. To stop execution on the command line, hit control-c, if you're in a Jupyter notebook, hit Escape one (to enter command mode), then hit I twice."
   ]
  },
  {
   "cell_type": "code",
   "execution_count": 150,
   "metadata": {},
   "outputs": [
    {
     "name": "stdout",
     "output_type": "stream",
     "text": [
      "10\n",
      "9\n",
      "8\n",
      "7\n",
      "6\n",
      "5\n",
      "4\n",
      "3\n",
      "2\n",
      "1\n"
     ]
    }
   ],
   "source": [
    "x = 10\n",
    "while x > 0:\n",
    "    print(x)\n",
    "    x -= 1"
   ]
  },
  {
   "cell_type": "markdown",
   "metadata": {},
   "source": [
    "You may occasionally encounter `break`, `continue`, and `pass` statements: `break` will jump out of the closest enclosing loop; `continue` immediately causes execution to jump to the top of the loop; and `pass` does nothing - it's simply an empty placeholder statement.\n",
    "\n",
    "The following code demonstrates the `break` statement by jumping execution out of the loop when the word 'done' is the entry into the loop. Notice that 'done' is never printed since the break statement jumps out of the loop"
   ]
  },
  {
   "cell_type": "code",
   "execution_count": 151,
   "metadata": {},
   "outputs": [
    {
     "name": "stdout",
     "output_type": "stream",
     "text": [
      "not right\n",
      "#please do not print this\n",
      "#do not print this\n",
      "Finished!\n"
     ]
    }
   ],
   "source": [
    "entries = ['not right', '#please do not print this', '#do not print this', 'stop']\n",
    "index = 0\n",
    "while True: \n",
    "    line = entries[index]\n",
    "    index += 1\n",
    "    if line == 'stop':\n",
    "        break\n",
    "    print(line)\n",
    "print('Finished!')"
   ]
  },
  {
   "cell_type": "markdown",
   "metadata": {},
   "source": [
    "We can add in the `continue` statement to jump back to the top of the loop without finishing execution of the rest of the loop. In this case, the `continue` statement will only be reached if a hashtag is placed before the word (much like a comment). In that case, the "
   ]
  },
  {
   "cell_type": "code",
   "execution_count": 152,
   "metadata": {},
   "outputs": [
    {
     "name": "stdout",
     "output_type": "stream",
     "text": [
      "not right\n",
      "Finished!\n"
     ]
    }
   ],
   "source": [
    "entries = ['not right', '#please do not print this', '#do not print this', 'stop']\n",
    "index = 0\n",
    "while True:\n",
    "    line = entries[index]\n",
    "    index += 1 \n",
    "    if line[0] == '#':\n",
    "        continue\n",
    "    if line == 'stop':\n",
    "        break\n",
    "    print(line)\n",
    "print('Finished!')"
   ]
  },
  {
   "cell_type": "markdown",
   "metadata": {},
   "source": [
    "### For loops\n",
    "For loops step through items in a sequence or other objects that can be iterated over."
   ]
  },
  {
   "cell_type": "code",
   "execution_count": 153,
   "metadata": {},
   "outputs": [
    {
     "name": "stdout",
     "output_type": "stream",
     "text": [
      "1\n",
      "2\n",
      "3\n",
      "4\n",
      "5\n"
     ]
    }
   ],
   "source": [
    "for x in [1, 2, 3, 4, 5]:\n",
    "    print(x)"
   ]
  },
  {
   "cell_type": "markdown",
   "metadata": {},
   "source": [
    "This works equally well with strings"
   ]
  },
  {
   "cell_type": "code",
   "execution_count": 154,
   "metadata": {},
   "outputs": [
    {
     "name": "stdout",
     "output_type": "stream",
     "text": [
      "Four\n",
      "score\n",
      "and\n",
      "seven\n",
      "years\n",
      "ago\n"
     ]
    }
   ],
   "source": [
    "address = ['Four','score','and','seven','years','ago']\n",
    "for word in address:\n",
    "    print(word)"
   ]
  },
  {
   "cell_type": "markdown",
   "metadata": {},
   "source": [
    "Let's add the numbers from 1 to 5 in a loop"
   ]
  },
  {
   "cell_type": "code",
   "execution_count": 155,
   "metadata": {},
   "outputs": [
    {
     "name": "stdout",
     "output_type": "stream",
     "text": [
      "15\n"
     ]
    }
   ],
   "source": [
    "total = 0\n",
    "for y in [1, 2, 3, 4, 5]:\n",
    "    total += y\n",
    "print(total)"
   ]
  },
  {
   "cell_type": "markdown",
   "metadata": {},
   "source": [
    "You can iterate over tuples just as well"
   ]
  },
  {
   "cell_type": "code",
   "execution_count": 156,
   "metadata": {},
   "outputs": [
    {
     "name": "stdout",
     "output_type": "stream",
     "text": [
      "15\n"
     ]
    }
   ],
   "source": [
    "total = 0\n",
    "for y in (1, 2, 3, 4, 5):\n",
    "    total += y\n",
    "print(total)"
   ]
  },
  {
   "cell_type": "markdown",
   "metadata": {},
   "source": [
    "You can also iterate over characters in a string"
   ]
  },
  {
   "cell_type": "code",
   "execution_count": 157,
   "metadata": {},
   "outputs": [
    {
     "name": "stdout",
     "output_type": "stream",
     "text": [
      "w\n",
      "o\n",
      "r\n",
      "d\n",
      "s\n"
     ]
    }
   ],
   "source": [
    "for c in 'words':\n",
    "    print(c)"
   ]
  },
  {
   "cell_type": "markdown",
   "metadata": {},
   "source": [
    "You can use for loops with multiple assignments"
   ]
  },
  {
   "cell_type": "code",
   "execution_count": 158,
   "metadata": {},
   "outputs": [
    {
     "name": "stdout",
     "output_type": "stream",
     "text": [
      "1 2 3\n",
      "4 5 6\n"
     ]
    }
   ],
   "source": [
    "for (a, b, c) in [(1, 2, 3), (4, 5, 6)]:\n",
    "    print(a, b, c)"
   ]
  },
  {
   "cell_type": "markdown",
   "metadata": {},
   "source": [
    "### List comprehensions\n",
    "List comprehensions combine for loops with lists to make a very compact and readable way of creating lists. Suppose you want to create a matrix of the squared value of a set of numbers (we'll see this is super easy with `Numpy`, but for now it will illustrate this concept). We could start with a `for` loop:"
   ]
  },
  {
   "cell_type": "code",
   "execution_count": 97,
   "metadata": {},
   "outputs": [
    {
     "name": "stdout",
     "output_type": "stream",
     "text": [
      "[1, 4, 9, 16, 25, 36, 49, 64, 81, 100]\n"
     ]
    }
   ],
   "source": [
    "mylist  = [1,2,3,4,5,6,7,8,9,10]\n",
    "squares = []\n",
    "for n in mylist:\n",
    "    squares.append(n**2)\n",
    "print(squares)"
   ]
  },
  {
   "cell_type": "markdown",
   "metadata": {},
   "source": [
    "However, we can do this with a list comprehension in one line:"
   ]
  },
  {
   "cell_type": "code",
   "execution_count": 98,
   "metadata": {},
   "outputs": [
    {
     "name": "stdout",
     "output_type": "stream",
     "text": [
      "[1, 4, 9, 16, 25, 36, 49, 64, 81, 100]\n"
     ]
    }
   ],
   "source": [
    "squares = [n**2 for n in mylist]\n",
    "print(squares)"
   ]
  },
  {
   "cell_type": "markdown",
   "metadata": {},
   "source": [
    "You can construct a list comprehensions with the basic format of \n",
    "\n",
    "[ {some expression} `for` {the variable used for iteration} `in` {the quantity to iterate over} ]\n",
    "\n",
    "So instead, we could have multiplied each value by 3"
   ]
  },
  {
   "cell_type": "code",
   "execution_count": 99,
   "metadata": {},
   "outputs": [
    {
     "name": "stdout",
     "output_type": "stream",
     "text": [
      "[3, 6, 9, 12, 15, 18, 21, 24, 27, 30]\n"
     ]
    }
   ],
   "source": [
    "newlist = [n * 3 for n in mylist]\n",
    "print(newlist)"
   ]
  },
  {
   "cell_type": "markdown",
   "metadata": {},
   "source": [
    "You can also filter the values by placing an `if` statement at the end and the list comprehension will only iterate over values that return `True` from the `if` statement. For example, if we only wanted the list to include the squared of odd values in the list:"
   ]
  },
  {
   "cell_type": "code",
   "execution_count": 100,
   "metadata": {},
   "outputs": [
    {
     "name": "stdout",
     "output_type": "stream",
     "text": [
      "[1, 9, 25, 49, 81]\n"
     ]
    }
   ],
   "source": [
    "squares = [n**2 for n in mylist if n % 2 != 0]\n",
    "print(squares)"
   ]
  },
  {
   "cell_type": "markdown",
   "metadata": {},
   "source": [
    "Or we could filter out those values less than 5"
   ]
  },
  {
   "cell_type": "code",
   "execution_count": 101,
   "metadata": {},
   "outputs": [
    {
     "name": "stdout",
     "output_type": "stream",
     "text": [
      "[1, 4, 9, 16]\n"
     ]
    }
   ],
   "source": [
    "squares = [n**2 for n in mylist if n < 5]\n",
    "print(squares)"
   ]
  },
  {
   "cell_type": "markdown",
   "metadata": {},
   "source": [
    "As you can see, this becomes extremely readable - one of the touted benefits of Python by fans of the language. In the above example, it pretty much reads: \"Square the value for each value in the list that's less than 5.\" It's very close to how we would speak."
   ]
  },
  {
   "cell_type": "markdown",
   "metadata": {},
   "source": [
    "#### \\*\\*\\*Reading\\*\\*\\*\n",
    "\n",
    "Please read [Iteration](https://www.py4e.com/html3/05-iterations) from Python for Everybody by Charles Severance.\n",
    "\n",
    "Supplementary videos that cover this material are also [available here](https://www.py4e.com/lessons/loops)"
   ]
  },
  {
   "cell_type": "markdown",
   "metadata": {},
   "source": [
    "### Example: Data Cleaning. For loops with `enumerate()`, `range()`, and `zip()`\n",
    "The handy `enumerate()` built in Python function is helpful if your program needs to iterate through a list while also using the index of the current value. Let's say our goal is to check whether the weather data we have on wind speed is valid, or if the sensor has failed. The wind speed has three classes, each corresponding to a different range. If the wind speed is negative, the sensor collected an invalid reading, and we should replace the corresponding value of `wind_class` with the value 'invalid'."
   ]
  },
  {
   "cell_type": "code",
   "execution_count": 17,
   "metadata": {
    "collapsed": true
   },
   "outputs": [],
   "source": [
    "wind_speed = [-2,       3,        -0.7,     24,         -3,        -4,        9         ]\n",
    "wind_class = ['Class I','Class I','Class I','Class III','Class II','Class II','Class II']"
   ]
  },
  {
   "cell_type": "markdown",
   "metadata": {},
   "source": [
    "To do this, we could loop through the index of each array. The `range()` function enables this and when transformed to a list, produces a sequential list of values from 0 to the argument minus one, by increments of 1:"
   ]
  },
  {
   "cell_type": "code",
   "execution_count": 18,
   "metadata": {},
   "outputs": [
    {
     "data": {
      "text/plain": [
       "[0, 1, 2, 3]"
      ]
     },
     "execution_count": 18,
     "metadata": {},
     "output_type": "execute_result"
    }
   ],
   "source": [
    "list(range(4))"
   ]
  },
  {
   "cell_type": "code",
   "execution_count": 19,
   "metadata": {},
   "outputs": [
    {
     "data": {
      "text/plain": [
       "[0, 1, 2, 3, 4, 5, 6]"
      ]
     },
     "execution_count": 19,
     "metadata": {},
     "output_type": "execute_result"
    }
   ],
   "source": [
    "list(range(7))"
   ]
  },
  {
   "cell_type": "markdown",
   "metadata": {},
   "source": [
    "Before we start any of that, let's make a copy of our list so we don't destroy any of the original in the process. Here's an example of what was described previously remember that this can happen. This won't be a problem for Numpy arrays, which we'll discuss later in detail, but it is important to know for lists."
   ]
  },
  {
   "cell_type": "code",
   "execution_count": 20,
   "metadata": {},
   "outputs": [
    {
     "name": "stdout",
     "output_type": "stream",
     "text": [
      "['flamingo', 2, 3, 4]\n",
      "['flamingo', 2, 3, 4]\n"
     ]
    }
   ],
   "source": [
    "a    = [1,2,3,4]\n",
    "b    = a\n",
    "b[0] = 'flamingo'\n",
    "print(b)\n",
    "print(a)"
   ]
  },
  {
   "cell_type": "markdown",
   "metadata": {},
   "source": [
    "So we copy the list first"
   ]
  },
  {
   "cell_type": "code",
   "execution_count": 24,
   "metadata": {},
   "outputs": [
    {
     "name": "stdout",
     "output_type": "stream",
     "text": [
      "['Class I', 'Class I', 'Class I', 'Class III', 'Class II', 'Class II', 'Class II']\n"
     ]
    }
   ],
   "source": [
    "corrected_class = wind_class.copy()\n",
    "print(corrected_class)"
   ]
  },
  {
   "cell_type": "markdown",
   "metadata": {},
   "source": [
    "So here we could write the loop to clean the data above:"
   ]
  },
  {
   "cell_type": "code",
   "execution_count": 25,
   "metadata": {},
   "outputs": [
    {
     "name": "stdout",
     "output_type": "stream",
     "text": [
      "['invalid', 'Class I', 'invalid', 'Class III', 'invalid', 'invalid', 'Class II']\n"
     ]
    }
   ],
   "source": [
    "for i in range(len(wind_speed)):\n",
    "    if wind_speed[i] < 0:\n",
    "        corrected_class[i] = 'invalid'\n",
    "print(corrected_class)"
   ]
  },
  {
   "cell_type": "markdown",
   "metadata": {},
   "source": [
    "Enumerate adds the ability to have an index that corresponds to each value in a container and iterate over both. It makes a sequence of tuples that contain the ndex and the corresponding value "
   ]
  },
  {
   "cell_type": "code",
   "execution_count": 26,
   "metadata": {},
   "outputs": [
    {
     "data": {
      "text/plain": [
       "[(0, 'Class I'),\n",
       " (1, 'Class I'),\n",
       " (2, 'Class I'),\n",
       " (3, 'Class III'),\n",
       " (4, 'Class II'),\n",
       " (5, 'Class II'),\n",
       " (6, 'Class II')]"
      ]
     },
     "execution_count": 26,
     "metadata": {},
     "output_type": "execute_result"
    }
   ],
   "source": [
    "list(enumerate(wind_class))"
   ]
  },
  {
   "cell_type": "markdown",
   "metadata": {},
   "source": [
    "Let's take this concept and apply it to our problem:"
   ]
  },
  {
   "cell_type": "code",
   "execution_count": 27,
   "metadata": {},
   "outputs": [
    {
     "name": "stdout",
     "output_type": "stream",
     "text": [
      "['invalid', 'Class I', 'invalid', 'Class III', 'invalid', 'invalid', 'Class II']\n"
     ]
    }
   ],
   "source": [
    "for (i, speed) in enumerate(wind_speed):\n",
    "    if speed < 0:\n",
    "        corrected_class[i] = 'invalid'\n",
    "print(corrected_class)"
   ]
  },
  {
   "cell_type": "markdown",
   "metadata": {},
   "source": [
    "While we've solved the problem at hand, this example also gives us the opportunity to introduce another helpful built in Python function, `zip()` which aggregates elements from two containers. "
   ]
  },
  {
   "cell_type": "code",
   "execution_count": 35,
   "metadata": {},
   "outputs": [
    {
     "name": "stdout",
     "output_type": "stream",
     "text": [
      "[0, 1, 2, 3, 4, 5, 6]\n",
      "['Class I', 'Class I', 'Class I', 'Class III', 'Class II', 'Class II', 'Class II']\n",
      "[(0, 'Class I'), (1, 'Class I'), (2, 'Class I'), (3, 'Class III'), (4, 'Class II'), (5, 'Class II'), (6, 'Class II')]\n"
     ]
    }
   ],
   "source": [
    "# Get the indices\n",
    "index = list(range(len(wind_class)))\n",
    "print(index)\n",
    "\n",
    "# Get the values that correspond to each index\n",
    "print(wind_class)\n",
    "\n",
    "# \"zip\" the two together\n",
    "zipped = zip(index,wind_class)\n",
    "print(list(zipped))"
   ]
  },
  {
   "cell_type": "markdown",
   "metadata": {},
   "source": [
    "As you can see it \"zips\" the two together making tupes of the two input arrays. Let's reproduce the functionality we just saw with enumerate with zip:"
   ]
  },
  {
   "cell_type": "code",
   "execution_count": 33,
   "metadata": {},
   "outputs": [
    {
     "name": "stdout",
     "output_type": "stream",
     "text": [
      "['invalid', 'Class I', 'invalid', 'Class III', 'invalid', 'invalid', 'Class II']\n"
     ]
    }
   ],
   "source": [
    "for (i, speed) in zip(index,wind_speed):\n",
    "    if speed < 0:\n",
    "        corrected_class[i] = 'invalid'\n",
    "print(corrected_class)"
   ]
  },
  {
   "cell_type": "markdown",
   "metadata": {},
   "source": [
    "## Core Python functions\n",
    "While we'll discuss functions in detail in the next module, but there are a number of important built-in functions to be aware of. A full list of Python's built in functions can be found on the [official Python website](https://docs.python.org/3.6/library/functions.html#func-list). \n",
    "\n",
    "### `print()` and `format()`\n",
    "Of all of the built in functions in Python, `print()` is likely to be the one you use by far the most. It's helpful as part of the debugging process as well as to provide output from your programs."
   ]
  },
  {
   "cell_type": "code",
   "execution_count": 38,
   "metadata": {},
   "outputs": [
    {
     "name": "stdout",
     "output_type": "stream",
     "text": [
      "First\n",
      "42\n",
      "First 42 Third\n"
     ]
    }
   ],
   "source": [
    "a = 'First'\n",
    "b = 42\n",
    "c = 'Third'\n",
    "print('First') # You can print strings\n",
    "print(42)      # You can print numbers\n",
    "print(a,b,c)   # Separating arguments with commas "
   ]
  },
  {
   "cell_type": "markdown",
   "metadata": {},
   "source": [
    "It's often useful to mix text and data from variables. Suppose you had a madlib program where the user provided two words and you wanted to insert them into your madlib. One way we can do this is to break up a string into parts and concatenate them together"
   ]
  },
  {
   "cell_type": "code",
   "execution_count": 9,
   "metadata": {},
   "outputs": [
    {
     "name": "stdout",
     "output_type": "stream",
     "text": [
      "You can't be serious!\n",
      "That shiny dog ate all that broccoli?\n"
     ]
    }
   ],
   "source": [
    "adjective = 'shiny'\n",
    "noun      = 'broccoli'\n",
    "madlib    = 'You can\\'t be serious!\\nThat ' + adjective + ' dog ate all that ' + noun + '?'\n",
    "print(madlib)"
   ]
  },
  {
   "cell_type": "markdown",
   "metadata": {},
   "source": [
    "You'll notice that there are a few backslashes before apostrophes. These are known as escape sequences since they prevent the Python interpreter from incorrectly evaluating them as part of the code rather than as part of the string. One's you'll commonly encounter:\n",
    "\n",
    "|Escape Sequence| Produces |\n",
    "|---------------|----------|\n",
    "| `\\\\`            | `\\`        |\n",
    "| `\\'`            | `'`        |\n",
    "| `\\\"`            | `\"`        |\n",
    "| `\\t`            | a tab    |\n",
    "| `\\n`            | newline  |"
   ]
  },
  {
   "cell_type": "markdown",
   "metadata": {},
   "source": [
    "The madlib example above requires typing multiple strings and concatenating them together. This can all be merged into one string with the use of the `format()` method for strings (we'll talk more about methods when we discuss classes later). Let's rewrite the madlib example using this method."
   ]
  },
  {
   "cell_type": "code",
   "execution_count": 11,
   "metadata": {},
   "outputs": [
    {
     "name": "stdout",
     "output_type": "stream",
     "text": [
      "You can't be serious!\n",
      "That shiny dog ate all that broccoli?\n"
     ]
    }
   ],
   "source": [
    "madlib    = 'You can\\'t be serious!\\nThat {} dog ate all that {}?'.format(adjective,noun)\n",
    "print(madlib)"
   ]
  },
  {
   "cell_type": "markdown",
   "metadata": {},
   "source": [
    "Using these format strings and leaving spaces for the variables we want to insert allows us to more easily modify the strings without entirely rewriting that line of code (and adding in concatenation operators and apostrophes all over the place).\n",
    "\n",
    "But this method can also shine through with numerical values and allow us to format these in custom ways. This is a tool that will also come in handy when making legends, titles, and axes for plots later on."
   ]
  },
  {
   "cell_type": "code",
   "execution_count": 13,
   "metadata": {},
   "outputs": [
    {
     "name": "stdout",
     "output_type": "stream",
     "text": [
      "Height = 0.234573534197, weight = 23.789325129594\n"
     ]
    }
   ],
   "source": [
    "height = 0.234573534197\n",
    "weight = 23.789325129594\n",
    "summary = 'Height = {}, weight = {}'.format(height,weight)\n",
    "print(summary)"
   ]
  },
  {
   "cell_type": "markdown",
   "metadata": {},
   "source": [
    "This contains far too many decimal places, though. So we can provide formatting instructions. You can find the full documentation on how this works in the [Python documentation](https://docs.python.org/3.4/library/string.html#formatstrings). Let's say we wanted the weight to be formatted as an integer and the height to have 3 digits after the decimal place. We can easily do this as follows:"
   ]
  },
  {
   "cell_type": "code",
   "execution_count": 40,
   "metadata": {},
   "outputs": [
    {
     "name": "stdout",
     "output_type": "stream",
     "text": [
      "Height =   0.235, weight =   24\n"
     ]
    }
   ],
   "source": [
    "summary = 'Height = {0:7.3f}, weight = {1:4.0f}'.format(height,weight)\n",
    "print(summary)"
   ]
  },
  {
   "cell_type": "markdown",
   "metadata": {},
   "source": [
    "The `format()` method has its own mini language that is quite powerful, but you really just need the basics to get the most value out of it. The template string (in the brackets) is what defines how the text is presented. Let's break down that example a bit more:\n",
    "<img src=\"img/format.png\">"
   ]
  },
  {
   "cell_type": "markdown",
   "metadata": {},
   "source": [
    "You can also replace the argument numbers with variable names, (below we use `h` for height and `w` for weight) which you then use in the argument of the `format()` method"
   ]
  },
  {
   "cell_type": "code",
   "execution_count": 41,
   "metadata": {},
   "outputs": [
    {
     "name": "stdout",
     "output_type": "stream",
     "text": [
      "Height =   0.235, weight =   24\n"
     ]
    }
   ],
   "source": [
    "summary = 'Height = {h:7.3f}, weight = {w:4.0f}'.format(h=height,w=weight)\n",
    "print(summary)"
   ]
  },
  {
   "cell_type": "markdown",
   "metadata": {},
   "source": [
    "If you leave off the position identifiers, `format()` inserts the variables into the string in the order that they appear from left to right"
   ]
  },
  {
   "cell_type": "code",
   "execution_count": 42,
   "metadata": {},
   "outputs": [
    {
     "name": "stdout",
     "output_type": "stream",
     "text": [
      "Height =   0.235, weight =   24\n"
     ]
    }
   ],
   "source": [
    "summary = 'Height = {:7.3f}, weight = {:4.0f}'.format(height,weight)\n",
    "print(summary)"
   ]
  },
  {
   "cell_type": "markdown",
   "metadata": {},
   "source": [
    "### `input()`"
   ]
  },
  {
   "cell_type": "markdown",
   "metadata": {},
   "source": [
    "A simple input function"
   ]
  },
  {
   "cell_type": "code",
   "execution_count": 44,
   "metadata": {},
   "outputs": [
    {
     "name": "stdout",
     "output_type": "stream",
     "text": [
      "Enter a number: 42\n",
      "Your number is 42\n"
     ]
    }
   ],
   "source": [
    "x = input('Enter a number: ')\n",
    "print('Your number is ' + x)"
   ]
  },
  {
   "cell_type": "markdown",
   "metadata": {},
   "source": [
    "### core math functions: `abs()`, `min()`, `max()`, `pow()`, `round()`, `sum()`\n",
    "Each of these core functions do what they say by...\n",
    "\n",
    "Taking the absolute value of a number"
   ]
  },
  {
   "cell_type": "code",
   "execution_count": 8,
   "metadata": {},
   "outputs": [
    {
     "name": "stdout",
     "output_type": "stream",
     "text": [
      "7\n"
     ]
    }
   ],
   "source": [
    "print(abs(-7))"
   ]
  },
  {
   "cell_type": "markdown",
   "metadata": {},
   "source": [
    "Calculating the minimum or maximum value from a collection of numbers"
   ]
  },
  {
   "cell_type": "code",
   "execution_count": 2,
   "metadata": {},
   "outputs": [
    {
     "name": "stdout",
     "output_type": "stream",
     "text": [
      "-8\n",
      "44.67\n"
     ]
    }
   ],
   "source": [
    "print(min(4,7,-3,2,-8,44.67))\n",
    "print(max(4,7,-3,2,-8,44.67))"
   ]
  },
  {
   "cell_type": "markdown",
   "metadata": {},
   "source": [
    "This also works with lists and tuples"
   ]
  },
  {
   "cell_type": "code",
   "execution_count": 12,
   "metadata": {},
   "outputs": [
    {
     "name": "stdout",
     "output_type": "stream",
     "text": [
      "-8\n",
      "44.67\n"
     ]
    }
   ],
   "source": [
    "values_list = [4,7,-3,2,-8,44.67]\n",
    "print(min(values_list))\n",
    "print(max(values_list))"
   ]
  },
  {
   "cell_type": "code",
   "execution_count": 13,
   "metadata": {},
   "outputs": [
    {
     "name": "stdout",
     "output_type": "stream",
     "text": [
      "-8\n",
      "44.67\n"
     ]
    }
   ],
   "source": [
    "values_tuple = (4,7,-3,2,-8,44.67)\n",
    "print(min(values_tuple))\n",
    "print(max(values_tuple))"
   ]
  },
  {
   "cell_type": "markdown",
   "metadata": {},
   "source": [
    "You can even use these for text analysis for calculating the first string in a sequence alphabetically"
   ]
  },
  {
   "cell_type": "code",
   "execution_count": 16,
   "metadata": {},
   "outputs": [
    {
     "name": "stdout",
     "output_type": "stream",
     "text": [
      "alphazero\n",
      "zelda\n"
     ]
    }
   ],
   "source": [
    "values_text = ['bitcoin','alphazero','crazy horse','zelda','d is for doctor']\n",
    "print(min(values_text))\n",
    "print(max(values_text))"
   ]
  },
  {
   "cell_type": "markdown",
   "metadata": {},
   "source": [
    "The `pow(x,y)` function returns $x^y$"
   ]
  },
  {
   "cell_type": "code",
   "execution_count": 35,
   "metadata": {},
   "outputs": [
    {
     "name": "stdout",
     "output_type": "stream",
     "text": [
      "16\n",
      "8.0\n"
     ]
    }
   ],
   "source": [
    "print(pow(4,2))\n",
    "print(pow(64,0.5))"
   ]
  },
  {
   "cell_type": "markdown",
   "metadata": {},
   "source": [
    "The `round()` function rounds to the nearest whole number by default"
   ]
  },
  {
   "cell_type": "code",
   "execution_count": 37,
   "metadata": {},
   "outputs": [
    {
     "name": "stdout",
     "output_type": "stream",
     "text": [
      "2\n",
      "25\n"
     ]
    }
   ],
   "source": [
    "print(round(2.34363))\n",
    "print(round(24.6473))"
   ]
  },
  {
   "cell_type": "markdown",
   "metadata": {},
   "source": [
    "You can also specify the level of precision you'd prefer it to round to instead. For example, if you'd like to round to the nearest 2-decimal places: `round(<number to round>,<decimal places to round to>)`"
   ]
  },
  {
   "cell_type": "code",
   "execution_count": 38,
   "metadata": {},
   "outputs": [
    {
     "name": "stdout",
     "output_type": "stream",
     "text": [
      "2.34\n",
      "24.65\n"
     ]
    }
   ],
   "source": [
    "print(round(2.34363,2))\n",
    "print(round(24.6473,2))"
   ]
  },
  {
   "cell_type": "markdown",
   "metadata": {},
   "source": [
    "Of course, you can take the sum over numberical values in containers"
   ]
  },
  {
   "cell_type": "code",
   "execution_count": 3,
   "metadata": {},
   "outputs": [
    {
     "name": "stdout",
     "output_type": "stream",
     "text": [
      "10\n",
      "10\n"
     ]
    }
   ],
   "source": [
    "values_list = [4,7,-3,2]\n",
    "values_tuple = (4,7,-3,2)\n",
    "print(sum(values_list))\n",
    "print(sum(values_tuple))"
   ]
  },
  {
   "cell_type": "markdown",
   "metadata": {},
   "source": [
    "### `len()`\n",
    "Calculates the length (or number of items in) a container"
   ]
  },
  {
   "cell_type": "code",
   "execution_count": 19,
   "metadata": {},
   "outputs": [
    {
     "name": "stdout",
     "output_type": "stream",
     "text": [
      "6\n",
      "6\n",
      "5\n"
     ]
    }
   ],
   "source": [
    "values_list  = [4,7,-3,2,-8,44.67]\n",
    "values_tuple = (4,7,-3,2,-8,44.67)\n",
    "values_text  = ['bitcoin','alphazero','crazy horse','zelda','d is for doctor']\n",
    "print(len(values_list))\n",
    "print(len(values_tuple))\n",
    "print(len(values_text))"
   ]
  },
  {
   "cell_type": "markdown",
   "metadata": {},
   "source": [
    "### `type()`\n",
    "Returns the type of object (recall that we used this extensively when introducing the various Python data types)"
   ]
  },
  {
   "cell_type": "code",
   "execution_count": 21,
   "metadata": {},
   "outputs": [
    {
     "name": "stdout",
     "output_type": "stream",
     "text": [
      "<class 'int'>\n",
      "<class 'float'>\n",
      "<class 'str'>\n",
      "<class 'list'>\n",
      "<class 'tuple'>\n"
     ]
    }
   ],
   "source": [
    "print(type(4))\n",
    "print(type(4.4))\n",
    "print(type('this'))\n",
    "print(type([2,3,4]))\n",
    "print(type((2,3,4)))"
   ]
  },
  {
   "cell_type": "markdown",
   "metadata": {},
   "source": [
    "### `any()`, `all()`\n",
    "These logical functions are helpful tools to check whether any or all elements in a container are true."
   ]
  },
  {
   "cell_type": "code",
   "execution_count": 22,
   "metadata": {},
   "outputs": [
    {
     "name": "stdout",
     "output_type": "stream",
     "text": [
      "True\n",
      "False\n"
     ]
    }
   ],
   "source": [
    "mylist = [True,False,False,False]\n",
    "print(any(mylist))\n",
    "print(all(mylist))"
   ]
  },
  {
   "cell_type": "markdown",
   "metadata": {},
   "source": [
    "**Practical example**: How do I determine if any or all of the numbers in a list are odd?\n",
    "\n",
    "First, how do we test if a number is odd or even?"
   ]
  },
  {
   "cell_type": "code",
   "execution_count": 28,
   "metadata": {},
   "outputs": [
    {
     "name": "stdout",
     "output_type": "stream",
     "text": [
      "even\n"
     ]
    }
   ],
   "source": [
    "# Test whether the number is odd or even\n",
    "number = 8\n",
    "if number % 2 == 0:\n",
    "    print('even')\n",
    "else:\n",
    "    print('odd')"
   ]
  },
  {
   "cell_type": "markdown",
   "metadata": {},
   "source": [
    "We'll start with our list and we'll first create a new list where we test whether or not each item in this list is a multiple of 2. We can check whether or note each member of the list is odd or even using the modulus (`%`) operator."
   ]
  },
  {
   "cell_type": "code",
   "execution_count": 30,
   "metadata": {},
   "outputs": [
    {
     "name": "stdout",
     "output_type": "stream",
     "text": [
      "[True, True, False, True, True, True]\n",
      "True\n",
      "False\n"
     ]
    }
   ],
   "source": [
    "numbers = [2,4,5,8,10,200]\n",
    "isodd   = [] # Start with an empty list and append to it\n",
    "for i in numbers:\n",
    "    isodd.append(i % 2 == 0)\n",
    "print(isodd)\n",
    "print(any(isodd))\n",
    "print(all(isodd))"
   ]
  },
  {
   "cell_type": "markdown",
   "metadata": {},
   "source": [
    "### Type casting: `int()`, `float()`, `bool()`, `str()`, `list()`, `tuple()`\n"
   ]
  },
  {
   "cell_type": "code",
   "execution_count": 31,
   "metadata": {},
   "outputs": [
    {
     "data": {
      "text/plain": [
       "[1, 3, 4]"
      ]
     },
     "execution_count": 31,
     "metadata": {},
     "output_type": "execute_result"
    }
   ],
   "source": [
    "list((1,3,4))"
   ]
  },
  {
   "cell_type": "markdown",
   "metadata": {},
   "source": [
    "### `range()`\n"
   ]
  },
  {
   "cell_type": "code",
   "execution_count": 34,
   "metadata": {},
   "outputs": [
    {
     "data": {
      "text/plain": [
       "[0, 1, 2]"
      ]
     },
     "execution_count": 34,
     "metadata": {},
     "output_type": "execute_result"
    }
   ],
   "source": [
    "list(range(3))"
   ]
  },
  {
   "cell_type": "code",
   "execution_count": 1,
   "metadata": {},
   "outputs": [
    {
     "data": {
      "text/plain": [
       "[4, 5, 6]"
      ]
     },
     "execution_count": 1,
     "metadata": {},
     "output_type": "execute_result"
    }
   ],
   "source": [
    "list(range(4,7))"
   ]
  },
  {
   "cell_type": "markdown",
   "metadata": {},
   "source": [
    "## Comments\n",
    "Comments are lines in a program that are not executed and often used to enhance program readability."
   ]
  },
  {
   "cell_type": "code",
   "execution_count": 160,
   "metadata": {
    "collapsed": true
   },
   "outputs": [],
   "source": [
    "'''\n",
    "This is a longer block comment\n",
    "It can be multiple lines if you want\n",
    "'''\n",
    "\n",
    "'''The comment can also be one line'''\n",
    "\n",
    "# There are also inline comments\n",
    "x = 7 # They can also go at the end of a line of code"
   ]
  },
  {
   "cell_type": "markdown",
   "metadata": {},
   "source": [
    "We'll be moving from proceedural programming (what we've discussed so far) to object oriented programming in the next section."
   ]
  }
 ],
 "metadata": {
  "kernelspec": {
   "display_name": "Python 3",
   "language": "python",
   "name": "python3"
  },
  "language_info": {
   "codemirror_mode": {
    "name": "ipython",
    "version": 3
   },
   "file_extension": ".py",
   "mimetype": "text/x-python",
   "name": "python",
   "nbconvert_exporter": "python",
   "pygments_lexer": "ipython3",
   "version": "3.6.1"
  }
 },
 "nbformat": 4,
 "nbformat_minor": 2
}
