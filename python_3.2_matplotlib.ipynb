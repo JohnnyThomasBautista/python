{
 "cells": [
  {
   "cell_type": "markdown",
   "metadata": {},
   "source": [
    "# Python: Plotting with `matplotlib`\n",
    "[`matplotlib`](https://matplotlib.org/index.html) is a plotting library for Python that builds heavily on NumPy. This package can be used to make publication-quality plots and graphics and is highly customizeable. While `matplotlib` is one of the most well-established Python plotting libraries, there are a number of other plotting packages that you may find useful for your work:\n",
    "- [`Seaborn`](https://seaborn.pydata.org/). Creates beautiful plots easily and is built on `matplotlib`\n",
    "- [`plotly`](https://plot.ly/python/getting-started/). Powerful library for interactive plots, which are free for offline use (and there is a paid plan for use on the web).\n",
    "- [`ggplot`](http://ggplot.yhathq.com/). For lovers of R's plotting system, `ggplot2`, this library translates much of that functionality from R to Python. It's based on the \"Grammar of Graphics\" theory of data visualization.\n",
    "- [`Bokeh`](http://bokeh.pydata.org/en/latest/). An interactive visualization library that targets the web for presentation.\n",
    "\n",
    "## Required Reading\n",
    "Please read the [matplotlib tutorial](https://matplotlib.org/users/pyplot_tutorial.html). Another resource that is not required reading, but that you may find helpful is the [plot-specific `matplotlib` tutorials](https://matplotlib.org/tutorials/index.html) which provide guidance in terms of how to create specific plot types."
   ]
  },
  {
   "cell_type": "markdown",
   "metadata": {},
   "source": [
    "# Practical Examples"
   ]
  },
  {
   "cell_type": "code",
   "execution_count": null,
   "metadata": {
    "collapsed": true
   },
   "outputs": [],
   "source": []
  }
 ],
 "metadata": {
  "kernelspec": {
   "display_name": "Python 3",
   "language": "python",
   "name": "python3"
  },
  "language_info": {
   "codemirror_mode": {
    "name": "ipython",
    "version": 3
   },
   "file_extension": ".py",
   "mimetype": "text/x-python",
   "name": "python",
   "nbconvert_exporter": "python",
   "pygments_lexer": "ipython3",
   "version": "3.6.1"
  }
 },
 "nbformat": 4,
 "nbformat_minor": 2
}
