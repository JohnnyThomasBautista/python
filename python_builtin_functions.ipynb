{
 "cells": [
  {
   "cell_type": "markdown",
   "metadata": {},
   "source": [
    "# Python: Important built-in functions\n",
    "While we'll discuss functions in detail in the next module, but there are a number of important built-in functions to be aware of. A full list of Python's built in functions can be found on the [official Python website](https://docs.python.org/3.6/library/functions.html#func-list). "
   ]
  },
  {
   "cell_type": "markdown",
   "metadata": {},
   "source": [
    "## `print()` and `format()`\n",
    "Of all of the built in functions in Python, `print()` is likely to be the one you use by far the most. It's helpful as part of the debugging process as well as to provide output from your programs."
   ]
  },
  {
   "cell_type": "code",
   "execution_count": 1,
   "metadata": {},
   "outputs": [
    {
     "name": "stdout",
     "output_type": "stream",
     "text": [
      "First\n",
      "42\n",
      "First 42 Third\n"
     ]
    }
   ],
   "source": [
    "a = 'First'\n",
    "b = 42\n",
    "c = 'Third'\n",
    "print('First') # You can print strings\n",
    "print(42)      # You can print numbers\n",
    "print(a,b,c)   # Separating arguments with commas "
   ]
  },
  {
   "cell_type": "markdown",
   "metadata": {},
   "source": [
    "It's often useful to mix text and data from variables. Suppose you had a madlib program where the user provided two words and you wanted to insert them into your madlib. One way we can do this is to break up a string into parts and concatenate them together"
   ]
  },
  {
   "cell_type": "code",
   "execution_count": 2,
   "metadata": {},
   "outputs": [
    {
     "name": "stdout",
     "output_type": "stream",
     "text": [
      "You can't be serious!\n",
      "That shiny dog ate all that broccoli?\n"
     ]
    }
   ],
   "source": [
    "adjective = 'shiny'\n",
    "noun      = 'broccoli'\n",
    "madlib    = 'You can\\'t be serious!\\nThat ' + adjective + ' dog ate all that ' + noun + '?'\n",
    "print(madlib)"
   ]
  },
  {
   "cell_type": "markdown",
   "metadata": {},
   "source": [
    "You'll notice that there are a few backslashes before apostrophes. These are known as escape sequences since they prevent the Python interpreter from incorrectly evaluating them as part of the code rather than as part of the string. One's you'll commonly encounter:\n",
    "\n",
    "|Escape Sequence| Produces |\n",
    "|---------------|----------|\n",
    "| `\\\\`            | `\\`        |\n",
    "| `\\'`            | `'`        |\n",
    "| `\\\"`            | `\"`        |\n",
    "| `\\t`            | a tab    |\n",
    "| `\\n`            | newline  |"
   ]
  },
  {
   "cell_type": "markdown",
   "metadata": {},
   "source": [
    "The madlib example above requires typing multiple strings and concatenating them together. This can all be merged into one string with the use of the `format()` method for strings (we'll talk more about methods when we discuss classes later). Let's rewrite the madlib example using this method."
   ]
  },
  {
   "cell_type": "code",
   "execution_count": 3,
   "metadata": {},
   "outputs": [
    {
     "name": "stdout",
     "output_type": "stream",
     "text": [
      "You can't be serious!\n",
      "That shiny dog ate all that broccoli?\n"
     ]
    }
   ],
   "source": [
    "madlib    = 'You can\\'t be serious!\\nThat {} dog ate all that {}?'.format(adjective,noun)\n",
    "print(madlib)"
   ]
  },
  {
   "cell_type": "markdown",
   "metadata": {},
   "source": [
    "Using these format strings and leaving spaces for the variables we want to insert allows us to more easily modify the strings without entirely rewriting that line of code (and adding in concatenation operators and apostrophes all over the place).\n",
    "\n",
    "But this method can also shine through with numerical values and allow us to format these in custom ways. This is a tool that will also come in handy when making legends, titles, and axes for plots later on."
   ]
  },
  {
   "cell_type": "code",
   "execution_count": 4,
   "metadata": {},
   "outputs": [
    {
     "name": "stdout",
     "output_type": "stream",
     "text": [
      "Height = 0.234573534197, weight = 23.789325129594\n"
     ]
    }
   ],
   "source": [
    "height = 0.234573534197\n",
    "weight = 23.789325129594\n",
    "summary = 'Height = {}, weight = {}'.format(height,weight)\n",
    "print(summary)"
   ]
  },
  {
   "cell_type": "markdown",
   "metadata": {},
   "source": [
    "This contains far too many decimal places, though. So we can provide formatting instructions. You can find the full documentation on how this works in the [Python documentation](https://docs.python.org/3.4/library/string.html#formatstrings). Let's say we wanted the weight to be formatted as an integer and the height to have 3 digits after the decimal place. We can easily do this as follows:"
   ]
  },
  {
   "cell_type": "code",
   "execution_count": 5,
   "metadata": {},
   "outputs": [
    {
     "name": "stdout",
     "output_type": "stream",
     "text": [
      "Height =   0.235, weight =   24\n"
     ]
    }
   ],
   "source": [
    "summary = 'Height = {0:7.3f}, weight = {1:4.0f}'.format(height,weight)\n",
    "print(summary)"
   ]
  },
  {
   "cell_type": "markdown",
   "metadata": {},
   "source": [
    "The `format()` method has its own mini language that is quite powerful, but you really just need the basics to get the most value out of it. The template string (in the brackets) is what defines how the text is presented. Let's break down that example a bit more:\n",
    "<img src=\"img/format.png\">"
   ]
  },
  {
   "cell_type": "markdown",
   "metadata": {},
   "source": [
    "You can also replace the argument numbers with variable names, (below we use `h` for height and `w` for weight) which you then use in the argument of the `format()` method"
   ]
  },
  {
   "cell_type": "code",
   "execution_count": 6,
   "metadata": {},
   "outputs": [
    {
     "name": "stdout",
     "output_type": "stream",
     "text": [
      "Height =   0.235, weight =   24\n"
     ]
    }
   ],
   "source": [
    "summary = 'Height = {h:7.3f}, weight = {w:4.0f}'.format(h=height,w=weight)\n",
    "print(summary)"
   ]
  },
  {
   "cell_type": "markdown",
   "metadata": {},
   "source": [
    "If you leave off the position identifiers, `format()` inserts the variables into the string in the order that they appear from left to right"
   ]
  },
  {
   "cell_type": "code",
   "execution_count": 7,
   "metadata": {},
   "outputs": [
    {
     "name": "stdout",
     "output_type": "stream",
     "text": [
      "Height =   0.235, weight =   24\n"
     ]
    }
   ],
   "source": [
    "summary = 'Height = {:7.3f}, weight = {:4.0f}'.format(height,weight)\n",
    "print(summary)"
   ]
  },
  {
   "cell_type": "markdown",
   "metadata": {},
   "source": [
    "## Other helpful built-in functions\n",
    "\n",
    "### `input()`\n",
    "Get input from the user at the command line."
   ]
  },
  {
   "cell_type": "code",
   "execution_count": 8,
   "metadata": {},
   "outputs": [
    {
     "name": "stdout",
     "output_type": "stream",
     "text": [
      "Enter a number: 5\n",
      "Your number is 5\n"
     ]
    }
   ],
   "source": [
    "x = input('Enter a number: ')\n",
    "print('Your number is ' + x)"
   ]
  },
  {
   "cell_type": "markdown",
   "metadata": {},
   "source": [
    "### core math functions: `abs()`, `min()`, `max()`, `pow()`, `round()`, `sum()`\n",
    "Each of these core functions do precisely what their names indicate...\n",
    "\n",
    "They can take the absolute value of a number"
   ]
  },
  {
   "cell_type": "code",
   "execution_count": 9,
   "metadata": {},
   "outputs": [
    {
     "name": "stdout",
     "output_type": "stream",
     "text": [
      "7\n"
     ]
    }
   ],
   "source": [
    "print(abs(-7))"
   ]
  },
  {
   "cell_type": "markdown",
   "metadata": {},
   "source": [
    "They can calculate the minimum or maximum value from a collection of numbers"
   ]
  },
  {
   "cell_type": "code",
   "execution_count": 10,
   "metadata": {},
   "outputs": [
    {
     "name": "stdout",
     "output_type": "stream",
     "text": [
      "-8\n",
      "44.67\n"
     ]
    }
   ],
   "source": [
    "print(min(4,7,-3,2,-8,44.67))\n",
    "print(max(4,7,-3,2,-8,44.67))"
   ]
  },
  {
   "cell_type": "markdown",
   "metadata": {},
   "source": [
    "This also works with lists and tuples"
   ]
  },
  {
   "cell_type": "code",
   "execution_count": 11,
   "metadata": {},
   "outputs": [
    {
     "name": "stdout",
     "output_type": "stream",
     "text": [
      "-8\n",
      "44.67\n"
     ]
    }
   ],
   "source": [
    "values_list = [4,7,-3,2,-8,44.67]\n",
    "print(min(values_list))\n",
    "print(max(values_list))"
   ]
  },
  {
   "cell_type": "code",
   "execution_count": 12,
   "metadata": {},
   "outputs": [
    {
     "name": "stdout",
     "output_type": "stream",
     "text": [
      "-8\n",
      "44.67\n"
     ]
    }
   ],
   "source": [
    "values_tuple = (4,7,-3,2,-8,44.67)\n",
    "print(min(values_tuple))\n",
    "print(max(values_tuple))"
   ]
  },
  {
   "cell_type": "markdown",
   "metadata": {},
   "source": [
    "You can even use these for text analysis for calculating the first string in a sequence alphabetically"
   ]
  },
  {
   "cell_type": "code",
   "execution_count": 13,
   "metadata": {},
   "outputs": [
    {
     "name": "stdout",
     "output_type": "stream",
     "text": [
      "alphazero\n",
      "zelda\n"
     ]
    }
   ],
   "source": [
    "values_text = ['bitcoin','alphazero','crazy horse','zelda','d is for doctor']\n",
    "print(min(values_text))\n",
    "print(max(values_text))"
   ]
  },
  {
   "cell_type": "markdown",
   "metadata": {},
   "source": [
    "The `pow(x,y)` function returns $x^y$"
   ]
  },
  {
   "cell_type": "code",
   "execution_count": 14,
   "metadata": {},
   "outputs": [
    {
     "name": "stdout",
     "output_type": "stream",
     "text": [
      "16\n",
      "8.0\n"
     ]
    }
   ],
   "source": [
    "print(pow(4,2))\n",
    "print(pow(64,0.5))"
   ]
  },
  {
   "cell_type": "markdown",
   "metadata": {},
   "source": [
    "The `round()` function rounds to the nearest whole number by default"
   ]
  },
  {
   "cell_type": "code",
   "execution_count": 15,
   "metadata": {},
   "outputs": [
    {
     "name": "stdout",
     "output_type": "stream",
     "text": [
      "2\n",
      "25\n"
     ]
    }
   ],
   "source": [
    "print(round(2.34363))\n",
    "print(round(24.6473))"
   ]
  },
  {
   "cell_type": "markdown",
   "metadata": {},
   "source": [
    "You can also specify the level of precision you'd prefer it to round to instead. For example, if you'd like to round to the nearest 2-decimal places: `round(<number to round>,<decimal places to round to>)`"
   ]
  },
  {
   "cell_type": "code",
   "execution_count": 16,
   "metadata": {},
   "outputs": [
    {
     "name": "stdout",
     "output_type": "stream",
     "text": [
      "2.34\n",
      "24.65\n"
     ]
    }
   ],
   "source": [
    "print(round(2.34363,2))\n",
    "print(round(24.6473,2))"
   ]
  },
  {
   "cell_type": "markdown",
   "metadata": {},
   "source": [
    "Of course, you can take the sum over numberical values in containers"
   ]
  },
  {
   "cell_type": "code",
   "execution_count": 17,
   "metadata": {},
   "outputs": [
    {
     "name": "stdout",
     "output_type": "stream",
     "text": [
      "10\n",
      "10\n"
     ]
    }
   ],
   "source": [
    "values_list = [4,7,-3,2]\n",
    "values_tuple = (4,7,-3,2)\n",
    "print(sum(values_list))\n",
    "print(sum(values_tuple))"
   ]
  },
  {
   "cell_type": "markdown",
   "metadata": {},
   "source": [
    "### `len()`\n",
    "Calculates the length (or number of items in) a container"
   ]
  },
  {
   "cell_type": "code",
   "execution_count": 18,
   "metadata": {},
   "outputs": [
    {
     "name": "stdout",
     "output_type": "stream",
     "text": [
      "6\n",
      "6\n",
      "5\n"
     ]
    }
   ],
   "source": [
    "values_list  = [4,7,-3,2,-8,44.67]\n",
    "values_tuple = (4,7,-3,2,-8,44.67)\n",
    "values_text  = ['bitcoin','alphazero','crazy horse','zelda','d is for doctor']\n",
    "print(len(values_list))\n",
    "print(len(values_tuple))\n",
    "print(len(values_text))"
   ]
  },
  {
   "cell_type": "markdown",
   "metadata": {},
   "source": [
    "### `type()`\n",
    "Returns the type of object (recall that we used this extensively when introducing the various Python data types)"
   ]
  },
  {
   "cell_type": "code",
   "execution_count": 19,
   "metadata": {},
   "outputs": [
    {
     "name": "stdout",
     "output_type": "stream",
     "text": [
      "<class 'int'>\n",
      "<class 'float'>\n",
      "<class 'str'>\n",
      "<class 'list'>\n",
      "<class 'tuple'>\n"
     ]
    }
   ],
   "source": [
    "print(type(4))\n",
    "print(type(4.4))\n",
    "print(type('this'))\n",
    "print(type([2,3,4]))\n",
    "print(type((2,3,4)))"
   ]
  },
  {
   "cell_type": "markdown",
   "metadata": {},
   "source": [
    "### `any()`, `all()`\n",
    "These logical functions are helpful tools to check whether any or all elements in a container are true."
   ]
  },
  {
   "cell_type": "code",
   "execution_count": 20,
   "metadata": {},
   "outputs": [
    {
     "name": "stdout",
     "output_type": "stream",
     "text": [
      "True\n",
      "False\n"
     ]
    }
   ],
   "source": [
    "mylist = [True,False,False,False]\n",
    "print(any(mylist))\n",
    "print(all(mylist))"
   ]
  },
  {
   "cell_type": "markdown",
   "metadata": {},
   "source": [
    "**Practical example**: How do I determine if any or all of the numbers in a list are odd?\n",
    "\n",
    "First, how do we test if a number is odd or even?"
   ]
  },
  {
   "cell_type": "code",
   "execution_count": 21,
   "metadata": {},
   "outputs": [
    {
     "name": "stdout",
     "output_type": "stream",
     "text": [
      "even\n"
     ]
    }
   ],
   "source": [
    "# Test whether the number is odd or even\n",
    "number = 8\n",
    "if number % 2 == 0:\n",
    "    print('even')\n",
    "else:\n",
    "    print('odd')"
   ]
  },
  {
   "cell_type": "markdown",
   "metadata": {},
   "source": [
    "We'll start with our list and we'll first create a new list where we test whether or not each item in this list is a multiple of 2. We can check whether or note each member of the list is odd or even using the modulus (`%`) operator."
   ]
  },
  {
   "cell_type": "code",
   "execution_count": 22,
   "metadata": {},
   "outputs": [
    {
     "name": "stdout",
     "output_type": "stream",
     "text": [
      "[True, True, False, True, True, True]\n",
      "True\n",
      "False\n"
     ]
    }
   ],
   "source": [
    "numbers = [2,4,5,8,10,200]\n",
    "isodd   = [] # Start with an empty list and append to it\n",
    "for i in numbers:\n",
    "    isodd.append(i % 2 == 0)\n",
    "print(isodd)\n",
    "print(any(isodd))\n",
    "print(all(isodd))"
   ]
  },
  {
   "cell_type": "markdown",
   "metadata": {},
   "source": [
    "### Type casting: `int()`, `float()`, `bool()`, `str()`, `list()`, `tuple()`\n"
   ]
  },
  {
   "cell_type": "code",
   "execution_count": 23,
   "metadata": {},
   "outputs": [
    {
     "data": {
      "text/plain": [
       "[1, 3, 4]"
      ]
     },
     "execution_count": 23,
     "metadata": {},
     "output_type": "execute_result"
    }
   ],
   "source": [
    "list((1,3,4))"
   ]
  },
  {
   "cell_type": "markdown",
   "metadata": {},
   "source": [
    "### `range()`\n",
    "Create a range of numbers."
   ]
  },
  {
   "cell_type": "code",
   "execution_count": 24,
   "metadata": {},
   "outputs": [
    {
     "data": {
      "text/plain": [
       "[0, 1, 2]"
      ]
     },
     "execution_count": 24,
     "metadata": {},
     "output_type": "execute_result"
    }
   ],
   "source": [
    "list(range(3))"
   ]
  },
  {
   "cell_type": "code",
   "execution_count": 25,
   "metadata": {},
   "outputs": [
    {
     "data": {
      "text/plain": [
       "[4, 5, 6]"
      ]
     },
     "execution_count": 25,
     "metadata": {},
     "output_type": "execute_result"
    }
   ],
   "source": [
    "list(range(4,7))"
   ]
  },
  {
   "cell_type": "markdown",
   "metadata": {},
   "source": [
    "## Comments\n",
    "Comments are lines in a program that are not executed and often used to enhance program readability."
   ]
  },
  {
   "cell_type": "code",
   "execution_count": 26,
   "metadata": {
    "collapsed": true
   },
   "outputs": [],
   "source": [
    "'''\n",
    "This is a longer block comment\n",
    "It can be multiple lines if you want\n",
    "'''\n",
    "\n",
    "'''The comment can also be one line'''\n",
    "\n",
    "# There are also inline comments\n",
    "x = 7 # They can also go at the end of a line of code"
   ]
  }
 ],
 "metadata": {
  "kernelspec": {
   "display_name": "Python 3",
   "language": "python",
   "name": "python3"
  },
  "language_info": {
   "codemirror_mode": {
    "name": "ipython",
    "version": 3
   },
   "file_extension": ".py",
   "mimetype": "text/x-python",
   "name": "python",
   "nbconvert_exporter": "python",
   "pygments_lexer": "ipython3",
   "version": "3.6.1"
  }
 },
 "nbformat": 4,
 "nbformat_minor": 2
}
