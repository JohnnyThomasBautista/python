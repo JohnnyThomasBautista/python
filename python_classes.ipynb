{
 "cells": [
  {
   "cell_type": "markdown",
   "metadata": {},
   "source": [
    "# Python: Objects and Classes"
   ]
  },
  {
   "cell_type": "markdown",
   "metadata": {},
   "source": [
    "## <font color='orange'>Required Reading</font> \n",
    "[Object-Oriented Programming](https://www.py4e.com/html3/14-objects) from Python for Everybody by Charles Severance. Supplementary videos [available here](https://www.py4e.com/lessons/Objects)."
   ]
  },
  {
   "cell_type": "markdown",
   "metadata": {},
   "source": [
    "# Exercises"
   ]
  },
  {
   "cell_type": "markdown",
   "metadata": {},
   "source": [
    "## Bank account\n",
    "Think about a bank that's trying to represent their costomers.\n",
    "\n",
    "*This example is adapted from [Jeff Knupp](https://jeffknupp.com/)*"
   ]
  },
  {
   "cell_type": "code",
   "execution_count": null,
   "metadata": {
    "collapsed": true
   },
   "outputs": [],
   "source": [
    "class BankCustomer:\n",
    "    '''A customer of a bank with a checking account.\n",
    "    \n",
    "    Attributes:\n",
    "        name: name of the customer (string)\n",
    "        balance: amount of money in the account (float)\n",
    "    '''\n",
    "    \n",
    "    def __init__(self,name,balance=0.0):\n",
    "        self.name    = name\n",
    "        self.balance = balance\n",
    "\n",
    "    def withdraw(self,amount):\n",
    "        if amount > self.balance:\n",
    "            print('Overdraft alert! Amount requested greater than available balance.')\n",
    "        self.balance -= amount\n",
    "        return self.balance\n",
    "        \n",
    "    def deposit(self,amount):\n",
    "        self.balance += amount\n",
    "        return self.balance"
   ]
  }
 ],
 "metadata": {
  "kernelspec": {
   "display_name": "Python 3",
   "language": "python",
   "name": "python3"
  },
  "language_info": {
   "codemirror_mode": {
    "name": "ipython",
    "version": 3
   },
   "file_extension": ".py",
   "mimetype": "text/x-python",
   "name": "python",
   "nbconvert_exporter": "python",
   "pygments_lexer": "ipython3",
   "version": "3.6.1"
  }
 },
 "nbformat": 4,
 "nbformat_minor": 2
}
