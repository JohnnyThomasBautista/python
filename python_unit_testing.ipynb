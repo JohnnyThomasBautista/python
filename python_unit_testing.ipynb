{
 "cells": [
  {
   "cell_type": "markdown",
   "metadata": {},
   "source": [
    "# Python: Unit Testing and Debugging"
   ]
  },
  {
   "cell_type": "markdown",
   "metadata": {},
   "source": [
    "## <font color='orange'>Required Reading</font> \n",
    "1. [Debugging](http://swcarpentry.github.io/python-novice-inflammation/09-debugging/index.html) from Software Carpentry. This resource will guide you through \n",
    "2. [Understanding Unit Testing](https://jeffknupp.com/blog/2013/12/09/improve-your-python-understanding-unit-testing/) by Jeff Knupp. This tutorial guides the reader through the basics of unit testing and using Python's [unittest](https://docs.python.org/3/library/unittest.html#assert-methods) package.\n",
    "\n",
    "## Optional Reading\n",
    "Components that come up frequently with debugging and unit testing are errors and exceptions. To learn more about how they work in Python, read this tutorial on [Errors and Exceptions](http://swcarpentry.github.io/python-novice-inflammation/07-errors/index.html) from Software Carpentry."
   ]
  },
  {
   "cell_type": "markdown",
   "metadata": {},
   "source": [
    "# Practical Example\n",
    "This may come as a surprise, but as a fellow human, we all make mistakes. As explained in the above resources, we can either fix code when it breaks (a reactive approach) or take steps to ensure we write good code at each step along the way anticipating the needs of each component of our program through unit testing (a more proactive approach).\n",
    "\n",
    "For a working example here, let's start with our `ismultiple()` function from earlier in the tutorial. As a reminder, this function took two arguments: (1) a number and (2) a possible multiple of the number. Here's the function we had for that:"
   ]
  },
  {
   "cell_type": "code",
   "execution_count": 12,
   "metadata": {
    "collapsed": true
   },
   "outputs": [],
   "source": [
    "# Determine if one number is a multiple of another\n",
    "def ismultiple(number,multiple):\n",
    "    if number % multiple == 0:\n",
    "        return True\n",
    "    else:\n",
    "        return False"
   ]
  },
  {
   "cell_type": "markdown",
   "metadata": {},
   "source": [
    "In an ideal world, we'd create our unit tests BEFORE we wrote the code, that way we could check along the way to know when we'd satisfied all of the conditions we would need to meet. So let's first list our requirements that we'll want to test for this code. Of course, there are the requirements that you or your colleagues need to decide on for what \"correct\" functionality should be. These will be specified by the needs of the project. I want to be extremely thorough for this example (probably overly so for this example), so you'll see there are a surprising number when you try to cover everything. \n",
    "\n",
    "1. The function should return the correct answer for known examples including:\n",
    "    1. 2 is a multiple of 6\n",
    "    2. 3 is a multiple of 12\n",
    "    3. 4 is not a multiple of 9\n",
    "    4. 13 is not a multiple of 7\n",
    "2. 1 is a multiple of all numbers greater than or equal to 1\n",
    "3. A number is always a multiple of itself\n",
    "4. A number has no multiples larger than itself\n",
    "5. Negative numbers and zero are invalid inputs and if a negative number is input, it should return False\n",
    "6. Any non-integer arguments should cause the function to return false"
   ]
  },
  {
   "cell_type": "code",
   "execution_count": 14,
   "metadata": {},
   "outputs": [
    {
     "name": "stderr",
     "output_type": "stream",
     "text": [
      "...F.E\n",
      "======================================================================\n",
      "ERROR: test_non_integer (__main__.IsmultipleTest)\n",
      "6) Any non-integer arguments should cause the function to return false\n",
      "----------------------------------------------------------------------\n",
      "Traceback (most recent call last):\n",
      "  File \"<ipython-input-14-5b4049620fa2>\", line 44, in test_non_integer\n",
      "    self.assertEqual(ismultiple('string',3), False)\n",
      "  File \"<ipython-input-12-0fdbf0b1e810>\", line 3, in ismultiple\n",
      "    if number % multiple == 0:\n",
      "TypeError: not all arguments converted during string formatting\n",
      "\n",
      "======================================================================\n",
      "FAIL: test_negative_and_zero (__main__.IsmultipleTest)\n",
      "5) Negative numbers and zero are invalid inputs and if a\n",
      "----------------------------------------------------------------------\n",
      "Traceback (most recent call last):\n",
      "  File \"<ipython-input-14-5b4049620fa2>\", line 35, in test_negative_and_zero\n",
      "    self.assertEqual(ismultiple(-50,  10), False)\n",
      "AssertionError: True != False\n",
      "\n",
      "----------------------------------------------------------------------\n",
      "Ran 6 tests in 0.012s\n",
      "\n",
      "FAILED (failures=1, errors=1)\n"
     ]
    }
   ],
   "source": [
    "import unittest\n",
    "\n",
    "class IsmultipleTest(unittest.TestCase):\n",
    "    \"\"\"Tests for `ismultiple()`.\"\"\"\n",
    "\n",
    "    def test_known_values(self):\n",
    "        \"\"\"1) It should return the correct answer for known examples\"\"\"\n",
    "        self.assertEqual(ismultiple(6,  2 ), True)\n",
    "        self.assertEqual(ismultiple(12, 3 ), True)\n",
    "        self.assertEqual(ismultiple(9,  4 ), False)\n",
    "        self.assertEqual(ismultiple(7,  13), False)\n",
    "        \n",
    "    def test_1(self):\n",
    "        \"\"\"2) 1 is a multiple of all numbers greater than or equal to 1\"\"\"\n",
    "        self.assertEqual(ismultiple(1 ,1), True)\n",
    "        self.assertEqual(ismultiple(2 ,1), True)\n",
    "        self.assertEqual(ismultiple(3 ,1), True)\n",
    "        self.assertEqual(ismultiple(99,1), True)\n",
    "        \n",
    "    def test_all_multiples_of_themselves(self):\n",
    "        \"\"\"3) A number is always a multiple of itself\"\"\"\n",
    "        self.assertEqual(ismultiple( 2, 2), True)\n",
    "        self.assertEqual(ismultiple( 3, 3), True)\n",
    "        self.assertEqual(ismultiple(99,99), True)\n",
    "        \n",
    "    def test_no_multiples_larger_than_itself(self):\n",
    "        \"\"\"4) A number has no multiples larger than itself\"\"\"\n",
    "        self.assertEqual(ismultiple(2,99), False)\n",
    "        self.assertEqual(ismultiple(3, 4), False)\n",
    "        self.assertEqual(ismultiple(4, 5), False)\n",
    "        \n",
    "    def test_negative_and_zero(self):\n",
    "        \"\"\"5) Negative numbers and zero are invalid inputs and if a\n",
    "        negative number is input, it should return False\"\"\"\n",
    "        self.assertEqual(ismultiple(-50,  10), False)\n",
    "        self.assertEqual(ismultiple( 50, -10), False)\n",
    "        self.assertEqual(ismultiple(-50, -10), False)\n",
    "        self.assertEqual(ismultiple(  0,  10), False)\n",
    "        self.assertEqual(ismultiple( 50,   0), False)\n",
    "        self.assertEqual(ismultiple(  0,   0), False)\n",
    "        \n",
    "    def test_non_integer(self):\n",
    "        \"\"\"6) Any non-integer arguments should cause the function to return false\"\"\"\n",
    "        self.assertEqual(ismultiple('string',3), False)\n",
    "        self.assertEqual(ismultiple(3,'string'), False)\n",
    "        self.assertEqual(ismultiple('string','string'), False)\n",
    "        self.assertEqual(ismultiple(7.5, 4), False)\n",
    "        self.assertEqual(ismultiple(8, 4.1), False)\n",
    "        self.assertEqual(ismultiple([6,4],2), False)\n",
    "        self.assertEqual(ismultiple(12,(1,4)), False)\n",
    "        \n",
    "if __name__ == '__main__':\n",
    "    unittest.main(argv=['first-arg-is-ignored'], exit=False)\n",
    "    # If this was in a file instead of a Jupyter Notebook, you would right \n",
    "    #   the following instead of the line above:\n",
    "    # unittest.main()"
   ]
  },
  {
   "cell_type": "markdown",
   "metadata": {},
   "source": [
    "These tests have 3 possible outcomes:\n",
    "1. OK, The test passes. This is represented with a '`.`' at the top of the output.\n",
    "2. FAIL: the test does not pass, and raises an AssertionError exception.\n",
    "3. ERROR: The test raises an exception other than AssertionError.\n",
    "\n",
    "In this case the outcome is:\n",
    "```\n",
    "...F.E\n",
    "```\n",
    "so there of the 6 tests presented, two situations were not adequate:\n",
    "- FAILED: 5) Negative numbers and zero are invalid inputs and if a negative number is input, it should return False\n",
    "- ERROR: 6) Any non-integer arguments should cause the function to return false\n",
    "\n"
   ]
  },
  {
   "cell_type": "markdown",
   "metadata": {},
   "source": [
    "Let's try to address the issues above. To do this, any invalid input should cause the function to return `False`. This includes non-integer arguments, zero values, and negative numbers.\n",
    "\n",
    "Below you'll see the `isinstance(a,b)` function, which checks to see whether `a` is an instance of (or is a type of) `b`. So if `a` is an integer, and `b` is `int`, then this would return `True`."
   ]
  },
  {
   "cell_type": "code",
   "execution_count": 7,
   "metadata": {
    "collapsed": true
   },
   "outputs": [],
   "source": [
    "# Determine if one number is a multiple of another\n",
    "def ismultiple(number,multiple):\n",
    "    \n",
    "    # Check the input to see if it's valid\n",
    "    if isinstance(number,int) and isinstance(multiple,int):\n",
    "        if number <= 0 or multiple <= 0:\n",
    "            return False\n",
    "    else:\n",
    "        return False\n",
    "    \n",
    "    # Check if one numbers ia multiple of another\n",
    "    if number % multiple == 0:\n",
    "        return True\n",
    "    else:\n",
    "        return False"
   ]
  },
  {
   "cell_type": "code",
   "execution_count": 10,
   "metadata": {},
   "outputs": [
    {
     "name": "stderr",
     "output_type": "stream",
     "text": [
      "......\n",
      "----------------------------------------------------------------------\n",
      "Ran 6 tests in 0.007s\n",
      "\n",
      "OK\n"
     ]
    },
    {
     "data": {
      "text/plain": [
       "<unittest.main.TestProgram at 0x10a8c67f0>"
      ]
     },
     "execution_count": 10,
     "metadata": {},
     "output_type": "execute_result"
    }
   ],
   "source": [
    "unittest.main(argv=['first-arg-is-ignored'], exit=False)"
   ]
  },
  {
   "cell_type": "markdown",
   "metadata": {},
   "source": [
    "Excellent! Now we've passed all the tests and we can be confident that our function meets our particularly stringent specifications. If this was a function that we were giving to other users, we may very well want to be sure that our tests represent the desired behavior so those users could benefit from a well-functioning program. We also know that we can build on this function in a larger code base with confidence in its operation."
   ]
  }
 ],
 "metadata": {
  "kernelspec": {
   "display_name": "Python 3",
   "language": "python",
   "name": "python3"
  },
  "language_info": {
   "codemirror_mode": {
    "name": "ipython",
    "version": 3
   },
   "file_extension": ".py",
   "mimetype": "text/x-python",
   "name": "python",
   "nbconvert_exporter": "python",
   "pygments_lexer": "ipython3",
   "version": "3.6.1"
  }
 },
 "nbformat": 4,
 "nbformat_minor": 2
}
