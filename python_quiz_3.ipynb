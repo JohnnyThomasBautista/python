{
 "cells": [
  {
   "cell_type": "markdown",
   "metadata": {},
   "source": [
    "# Python Unit 3 Quiz"
   ]
  },
  {
   "cell_type": "markdown",
   "metadata": {},
   "source": [
    "## Part 1: Exploring matrices\n",
    "For this question, we'll use the following matrix of data"
   ]
  },
  {
   "cell_type": "code",
   "execution_count": 52,
   "metadata": {
    "collapsed": true
   },
   "outputs": [],
   "source": [
    "# Generate a matrix of random numbers [DO NOT MODIFY THIS CODE]\n",
    "import numpy as np\n",
    "np.random.seed(14) # This guarantees the code will generate the same set of random numbers whenever executed\n",
    "random_integers = np.random.randint(1,high=50000, size=(500,500))"
   ]
  },
  {
   "cell_type": "markdown",
   "metadata": {},
   "source": [
    "**(1)** How many unique values are in the matrix?\n",
    "\n",
    "**(2)** What is the average of the elementwise square root of the values in the matrix?\n",
    "\n",
    "**(3)** What is the sum of the values in the last column of the matrix?\n",
    "\n",
    "**(4)** What is the maximum value in the second to last row of the matrix?"
   ]
  },
  {
   "cell_type": "markdown",
   "metadata": {},
   "source": [
    "### Solutions"
   ]
  },
  {
   "cell_type": "markdown",
   "metadata": {},
   "source": [
    "**(1)** How many unique values are in the matrix?"
   ]
  },
  {
   "cell_type": "code",
   "execution_count": 53,
   "metadata": {},
   "outputs": [
    {
     "data": {
      "text/plain": [
       "49647"
      ]
     },
     "execution_count": 53,
     "metadata": {},
     "output_type": "execute_result"
    }
   ],
   "source": [
    "len(np.unique(random_integers))"
   ]
  },
  {
   "cell_type": "markdown",
   "metadata": {},
   "source": [
    "**(2)** What is the average of the elementwise square root of the values in the matrix?"
   ]
  },
  {
   "cell_type": "code",
   "execution_count": 54,
   "metadata": {},
   "outputs": [
    {
     "data": {
      "text/plain": [
       "149.0790123218508"
      ]
     },
     "execution_count": 54,
     "metadata": {},
     "output_type": "execute_result"
    }
   ],
   "source": [
    "np.sqrt(random_integers).mean()"
   ]
  },
  {
   "cell_type": "markdown",
   "metadata": {},
   "source": [
    "**(3)** What is the sum of the values in the last column of the matrix?"
   ]
  },
  {
   "cell_type": "code",
   "execution_count": 55,
   "metadata": {},
   "outputs": [
    {
     "data": {
      "text/plain": [
       "12937220"
      ]
     },
     "execution_count": 55,
     "metadata": {},
     "output_type": "execute_result"
    }
   ],
   "source": [
    "random_integers.sum(axis=1)[-1]"
   ]
  },
  {
   "cell_type": "markdown",
   "metadata": {},
   "source": [
    "**(4)** What is the maximum value in the second to last row of the matrix?"
   ]
  },
  {
   "cell_type": "code",
   "execution_count": 56,
   "metadata": {},
   "outputs": [
    {
     "data": {
      "text/plain": [
       "49996"
      ]
     },
     "execution_count": 56,
     "metadata": {},
     "output_type": "execute_result"
    }
   ],
   "source": [
    "random_integers.max(axis=0)[-2]"
   ]
  },
  {
   "cell_type": "markdown",
   "metadata": {},
   "source": [
    "## Part 2: Loading data and answering questions for a real dataset\n",
    "You'll find in the `data` folder a file called, `egrid2016.xlsx`. This is the dataset we'll be exploring through these exercises. This dataset is the Environmental Protection Agency's (EPA) [Emissions & Generation Resource Integrated Database (eGRID)](https://www.epa.gov/energy/emissions-generation-resource-integrated-database-egrid) containing information about all power plants in the United States, the amount of genereration they produce, what fuel they use, the location of the plant, and many more quantities. We'll be using a subset of those data.\n",
    "\n",
    "The fields we'll be using include:\t\t\t\t\t\n",
    "    \n",
    "|field    |description|\n",
    "|:-----   |:-----|\n",
    "|SEQPLT16 |eGRID2016 Plant file sequence number (the index)| \n",
    "|PSTATABB |Plant state abbreviation|\n",
    "|PNAME    |Plant name |\n",
    "|LAT      |Plant latitude |\n",
    "|LON      |Plant longitude|\n",
    "|PLPRMFL  |Plant primary fuel |\n",
    "|CAPFAC   |Plant capacity factor |\n",
    "|NAMEPCAP |Plant nameplate capacity (Megawatts MW)|\n",
    "|PLNGENAN |Plant annual net generation (Megawatt-hours MWh)|\n",
    "|PLCO2EQA |Plant annual CO2 equivalent emissions (tons)|\n",
    "\n",
    "For more details on the data, you can refer to the [eGrid technical documents](https://www.epa.gov/sites/production/files/2018-02/documents/egrid2016_technicalsupportdocument_0.pdf). For example, you may want to review page 45 and the section \"Plant Primary Fuel (PLPRMFL)\", which gives the full names of the fuel types including WND for wind, NG for natural gas, BIT for Bituminous coal, etc.\n",
    "\n",
    "### Your questions about this dataset\n",
    "For this dataset, your goal is answer the following questions about electricity generation in the United States:\n",
    "\n",
    "**(5)** Which plant has generated the most energy (measured in MWh)?\n",
    "\n",
    "**(6)** What is the name of the northern-most power plant in the United States?\n",
    "\n",
    "**(7)** What is the state where the northern-most power plant in the United States is located?\n",
    "\n",
    "**(8)** What is the ratio of the largest to the smallest number of tons of CO2 equivalent produced by a bituminous coal plant that generates more than the average net generation (in MWh) for bituminous coal plants? *Note: first determine the bituminous coal plants that produce at least the average net generation, then determine the ratio of the largest to smallest number of tons of CO2 equivalent produced.\n",
    "\n",
    "**(9)** Plot a histogram of the amount of energy produced by each fuel for the plant. From this plot, which fuel for generation produces the most energy (MWh) in the United States?\n",
    "\n",
    "There also are a couple of \"gotchas\" to watch out for with this dataset:\n",
    "1. The headers are on the second row and you'll want to ignore the first row (they're more detailed descriptions of the headers).\n",
    "- NaN values represent blanks in the data. These will appear regularly in real-world data, so getting experience working with it will be important."
   ]
  },
  {
   "cell_type": "markdown",
   "metadata": {},
   "source": [
    "## Solution"
   ]
  },
  {
   "cell_type": "code",
   "execution_count": 5,
   "metadata": {
    "collapsed": true
   },
   "outputs": [],
   "source": [
    "import pandas as pd\n",
    "\n",
    "egrid = pd.read_excel('./data/egrid2016.xlsx', skiprows=[0])"
   ]
  },
  {
   "cell_type": "markdown",
   "metadata": {},
   "source": [
    "**(5)** Which plant has generated the most energy (measured in MWh)?"
   ]
  },
  {
   "cell_type": "code",
   "execution_count": 17,
   "metadata": {},
   "outputs": [
    {
     "data": {
      "text/plain": [
       "'Grand Coulee'"
      ]
     },
     "execution_count": 17,
     "metadata": {},
     "output_type": "execute_result"
    }
   ],
   "source": [
    "egrid.sort_values(by='NAMEPCAP', ascending=False)['PNAME'].iloc[0]"
   ]
  },
  {
   "cell_type": "markdown",
   "metadata": {},
   "source": [
    "**(6)** What is the name of the northern-most power plant in the United States?"
   ]
  },
  {
   "cell_type": "code",
   "execution_count": 18,
   "metadata": {},
   "outputs": [
    {
     "data": {
      "text/plain": [
       "'Barrow'"
      ]
     },
     "execution_count": 18,
     "metadata": {},
     "output_type": "execute_result"
    }
   ],
   "source": [
    "egrid.sort_values(by='LAT', ascending=False)['PNAME'].iloc[0]"
   ]
  },
  {
   "cell_type": "markdown",
   "metadata": {},
   "source": [
    "**(7)** What is the state where the northern-most power plant in the United States is located?"
   ]
  },
  {
   "cell_type": "code",
   "execution_count": 19,
   "metadata": {},
   "outputs": [
    {
     "data": {
      "text/plain": [
       "'AK'"
      ]
     },
     "execution_count": 19,
     "metadata": {},
     "output_type": "execute_result"
    }
   ],
   "source": [
    "egrid.sort_values(by='LAT', ascending=False)['PSTATABB'].iloc[0]"
   ]
  },
  {
   "cell_type": "markdown",
   "metadata": {},
   "source": [
    "**(8)** What is the ratio of the largest to the smallest number of tons of CO2 equivalent produced by a bituminous coal plant that generates more than the average net generation (in MWh) for bituminous coal plants? *Note: first determine the bituminous coal plants that produce at least the average net generation, then determine the ratio of the largest to smallest number of tons of CO2 equivalent produced."
   ]
  },
  {
   "cell_type": "code",
   "execution_count": 28,
   "metadata": {},
   "outputs": [
    {
     "name": "stdout",
     "output_type": "stream",
     "text": [
      "4.93292294428\n"
     ]
    }
   ],
   "source": [
    "# Compute the average net generation of bituminous coal plants\n",
    "bituminous = egrid[egrid['PLPRMFL'].isin(['BIT'])]\n",
    "average_bit_co2 = bituminous['PLNGENAN'].mean()\n",
    "\n",
    "# Get the CO2 equivalent for bituminous plants that generate more than the average bituminous generation\n",
    "bit_greater_than_average = bituminous[bituminous['PLNGENAN'] >= average_bit_co2]\n",
    "mostCO2  = bit_greater_than_average['PLCO2EQA'].max()\n",
    "leastCO2 = bit_greater_than_average['PLCO2EQA'].min()\n",
    "print(mostCO2/leastCO2)"
   ]
  },
  {
   "cell_type": "markdown",
   "metadata": {},
   "source": [
    "**(9)** Plot a histogram of the amount of energy produced by each fuel for the plant. From this plot, which fuel for generation produces the most energy (MWh) in the United States?"
   ]
  },
  {
   "cell_type": "code",
   "execution_count": 41,
   "metadata": {},
   "outputs": [
    {
     "data": {
      "image/png": "[encoded data removed]",
      "text/plain": [
       "<matplotlib.figure.Figure at 0x116815978>"
      ]
     },
     "metadata": {},
     "output_type": "display_data"
    }
   ],
   "source": [
    "import matplotlib.pyplot as plt\n",
    "\n",
    "fuel_type_group = egrid.groupby('PLPRMFL').sum()\n",
    "fuel_type_group\n",
    "fuel_and_gen    = fuel_type_group[['PLNGENAN']]\n",
    "\n",
    "fuel_and_gen.plot.bar()\n",
    "plt.ylabel('Generation (MWh)')\n",
    "plt.show()"
   ]
  },
  {
   "cell_type": "code",
   "execution_count": 47,
   "metadata": {},
   "outputs": [
    {
     "data": {
      "text/plain": [
       "'NG'"
      ]
     },
     "execution_count": 47,
     "metadata": {},
     "output_type": "execute_result"
    }
   ],
   "source": [
    "# We can also directly output the answer:\n",
    "fuel_and_gen[fuel_and_gen['PLNGENAN'] == fuel_and_gen['PLNGENAN'].max()].index[0]"
   ]
  }
 ],
 "metadata": {
  "kernelspec": {
   "display_name": "Python 3",
   "language": "python",
   "name": "python3"
  },
  "language_info": {
   "codemirror_mode": {
    "name": "ipython",
    "version": 3
   },
   "file_extension": ".py",
   "mimetype": "text/x-python",
   "name": "python",
   "nbconvert_exporter": "python",
   "pygments_lexer": "ipython3",
   "version": "3.6.1"
  }
 },
 "nbformat": 4,
 "nbformat_minor": 2
}
